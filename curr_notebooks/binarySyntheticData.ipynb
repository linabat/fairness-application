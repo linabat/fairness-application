{
 "cells": [
  {
   "cell_type": "markdown",
   "id": "cf22c554-b495-4551-ae60-0381413fb23b",
   "metadata": {},
   "source": [
    "#### Plan for synthetic data \n",
    "1. Create synthetic datasets\n",
    "2. Run synthetic unbiased fair synthetic dataset\n",
    "3. add in error + bias into Y-train, make it rely on S\n",
    "4. run pipeline on new data and try to get it to meet the same baseline as the original dataset for demographic parity + accuracy.\n",
    "\n",
    "#### Additional work \n",
    "hypertune for lambda so that accuracy and demographic parity are well balanced."
   ]
  },
  {
   "cell_type": "code",
   "execution_count": 2,
   "id": "24672b93-3c9d-4e08-98b2-b6a106a323bf",
   "metadata": {
    "scrolled": true
   },
   "outputs": [
    {
     "name": "stderr",
     "output_type": "stream",
     "text": [
      "2025-02-19 12:46:57.734044: E external/local_xla/xla/stream_executor/cuda/cuda_dnn.cc:9261] Unable to register cuDNN factory: Attempting to register factory for plugin cuDNN when one has already been registered\n",
      "2025-02-19 12:46:57.734080: E external/local_xla/xla/stream_executor/cuda/cuda_fft.cc:607] Unable to register cuFFT factory: Attempting to register factory for plugin cuFFT when one has already been registered\n",
      "2025-02-19 12:46:57.735581: E external/local_xla/xla/stream_executor/cuda/cuda_blas.cc:1515] Unable to register cuBLAS factory: Attempting to register factory for plugin cuBLAS when one has already been registered\n",
      "2025-02-19 12:46:57.744229: I tensorflow/core/platform/cpu_feature_guard.cc:182] This TensorFlow binary is optimized to use available CPU instructions in performance-critical operations.\n",
      "To enable the following instructions: AVX2 FMA, in other operations, rebuild TensorFlow with the appropriate compiler flags.\n"
     ]
    }
   ],
   "source": [
    "# !pip install fairlearn\n",
    "\n",
    "import pandas as pd \n",
    "import numpy as np\n",
    "import tensorflow as tf\n",
    "import seaborn as sns\n",
    "import os\n",
    "import random\n",
    "import datetime\n",
    "\n",
    "import matplotlib.pyplot as plt\n",
    "from sklearn.preprocessing import StandardScaler, LabelEncoder \n",
    "from sklearn.model_selection import train_test_split\n",
    "\n",
    "from tensorflow.keras.layers import (\n",
    "    Input, Dense, Conv2D, Flatten, \n",
    "    MaxPooling2D, BatchNormalization, Dropout\n",
    ")\n",
    "\n",
    "from tensorflow.keras.utils import to_categorical\n",
    "from tensorflow.keras.callbacks import (\n",
    "    EarlyStopping,\n",
    "    ModelCheckpoint,\n",
    "    LearningRateScheduler\n",
    ")\n",
    "from tensorflow.keras.initializers import RandomUniform\n",
    "from tensorflow.keras.regularizers import l1, l2\n",
    "from tensorflow.keras.constraints import Constraint\n",
    "from tensorflow.keras.optimizers import Adam\n",
    "from keras.initializers import Constant\n",
    "\n",
    "from sklearn.model_selection import train_test_split\n",
    "from sklearn.preprocessing import StandardScaler\n",
    "from sklearn.linear_model import LogisticRegression\n",
    "from sklearn.metrics import roc_auc_score, accuracy_score\n",
    "\n",
    "from tensorflow.keras.applications.resnet50 import ResNet50, preprocess_input\n",
    "from tensorflow.keras.layers import GlobalAveragePooling2D\n",
    "from tqdm import tqdm\n",
    "from keras.models import load_model\n",
    "import tensorflow as tf\n",
    "from tensorflow import keras\n",
    "from tensorflow.keras import layers, regularizers\n",
    "from tensorflow.keras.layers import (\n",
    "    Input, Dense, Conv2D, Flatten, \n",
    "    MaxPooling2D, BatchNormalization, Dropout, Concatenate\n",
    ")\n",
    "\n",
    "from tensorflow.keras.utils import to_categorical\n",
    "from tensorflow.keras.callbacks import (\n",
    "    EarlyStopping,\n",
    "    ModelCheckpoint,\n",
    "    LearningRateScheduler\n",
    ")\n",
    "\n",
    "from tensorflow.keras.regularizers import Regularizer\n",
    "from tensorflow.keras.models import Sequential, Model\n",
    "from keras.models import load_model\n",
    "from tensorflow.keras.layers import Dense, Dropout\n",
    "from tensorflow.keras.callbacks import LearningRateScheduler, ModelCheckpoint\n",
    "from tensorflow.keras.utils import to_categorical\n",
    "\n",
    "from sklearn.metrics import pairwise_distances\n",
    "from sklearn.preprocessing import StandardScaler\n",
    "import tensorflow as tf"
   ]
  },
  {
   "cell_type": "code",
   "execution_count": 3,
   "id": "4a9af067-aa00-404e-9bbb-9fa55fd4367a",
   "metadata": {},
   "outputs": [],
   "source": [
    "# -------------------------------\n",
    "# Custom Gradient Reversal Layer\n",
    "# -------------------------------\n",
    "@tf.custom_gradient\n",
    "def grad_reverse(x, lambda_):\n",
    "    def grad(dy):\n",
    "        return -lambda_ * dy, None # reverses direction of gradient \n",
    "    return x, grad\n",
    "\n",
    "# custom Keras layer\n",
    "\"\"\"\n",
    "Layer is used to ensure that the feature representation are independent of a sensitive attribute\n",
    "- feature extract learns normally in the forward pass\n",
    "- reversing gradients of classifier that tries to predict the sensitive attribute during backpropagation -- stops feature extractor from encoding sensitive information\n",
    "\"\"\"\n",
    "class GradientReversalLayer(tf.keras.layers.Layer): \n",
    "    def __init__(self, lambda_=1.0, **kwargs):\n",
    "        super(GradientReversalLayer, self).__init__(**kwargs)\n",
    "        self.lambda_ = lambda_ # strength of gradient reversal\n",
    "    def call(self, x):\n",
    "        return grad_reverse(x, self.lambda_)\n",
    "\n",
    "# -------------------------------\n",
    "# Data Loading and Preprocessing\n",
    "# -------------------------------\n",
    "def set_seed(seed_num):\n",
    "    random.seed(seed_num)\n",
    "    np.random.seed(seed_num)\n",
    "    tf.random.set_seed(seed_num)\n",
    "    os.environ['PYTHONHASHSEED'] = str(seed_num)"
   ]
  },
  {
   "cell_type": "code",
   "execution_count": 4,
   "id": "98a279a6-a67d-4bab-8049-18a4eb1ab4ed",
   "metadata": {},
   "outputs": [],
   "source": [
    "# -------------------------------\n",
    "# Adversarial Debiasing Model\n",
    "# -------------------------------\n",
    "def build_adversarial_model(input_dim, lambda_adv=1.0):\n",
    "    \"\"\"\n",
    "    Build an adversarial debiasing model that learns pseudo‑labels Y' from X.\n",
    "\n",
    "    Architecture:\n",
    "      - Main branch (encoder): from X, several dense layers produce a latent pseudo‑label pseudo_Y (via sigmoid).\n",
    "      - Adversary branch: pseudo_Y is passed through a Gradient Reversal Layer and then dense layers predict S.\n",
    "      - Decoder branch: concatenates pseudo_Y and the one-hot sensitive attribute S to predict the observed label Y.\n",
    "\n",
    "    Losses:\n",
    "      - For the main branch, binary crossentropy between observed Y and pseudo_Y (and Y_pred).\n",
    "      - For the adversary branch, categorical crossentropy to predict S.\n",
    "\n",
    "    Returns a compiled Keras model that takes inputs X and S (one-hot encoded) and outputs:\n",
    "      [pseudo_Y, S_pred, Y_pred].\n",
    "    \"\"\"\n",
    "    X_input = tf.keras.Input(shape=(input_dim,), name=\"X\")\n",
    "    S_input = tf.keras.Input(shape=(2,), name=\"S\")  # one-hot encoded S\n",
    "\n",
    "    # Main branch: Encoder for pseudo-label.\n",
    "    \"\"\"\n",
    "    \"\"\"\n",
    "    h = Dense(64, activation='relu')(X_input)\n",
    "    h = BatchNormalization()(h)\n",
    "    h = Dense(32, activation='relu')(h)\n",
    "    h = BatchNormalization()(h)\n",
    "    pseudo_Y = Dense(1, activation='sigmoid', name=\"pseudo_Y\")(h) ## outputs  probability value for pseudo_Y between 0,1\n",
    "\n",
    "    # Adversary branch: from pseudo_Y, with GRL.\n",
    "    \"\"\"\n",
    "    This is to prevent psuedo_Y from containing information about S\n",
    "    - adversary will try to predict S from pseudo_Y (fair label)...if it can accurately predict S, then Y' still encodes information about S (don't want this) \n",
    "    - use the gradient reversal layer to prevent this from happening\n",
    "    \"\"\"\n",
    "    grl = GradientReversalLayer(lambda_=lambda_adv)(pseudo_Y)\n",
    "    a = Dense(32, activation='relu')(grl)\n",
    "    a = BatchNormalization()(a)\n",
    "    S_pred = Dense(2, activation='softmax', name=\"S_pred\")(a)\n",
    "\n",
    "    # Decoder branch: combine pseudo_Y and S to predict observed Y.\n",
    "    \"\"\"\n",
    "    Y depepends on both Y' and S \n",
    "    -- predict the final observed label Y using both psuedo_Y and S\n",
    "    -- Y may still depend on S, that is why it's being used here \n",
    "    -- decoder ensures Y_final is accurate, while psuedo_Y is not directly influenced by S \n",
    "    -- psuedo_Y removes unfair dependencies on S...however S might still contain legit info needed to predict Y accurately \n",
    "    -- IMPORTANT - THIS STEP ALLOWS FAIR DEPENDENCIES WHILE ELIMINATING UNFAIR ONES\n",
    "    -- structure how S influences Y, without letting hidden biases leak through \n",
    "    \"\"\"\n",
    "    concat = Concatenate()([pseudo_Y, S_input])\n",
    "    d = Dense(16, activation='relu')(concat)\n",
    "    d = BatchNormalization()(d)\n",
    "    Y_pred = Dense(1, activation='sigmoid', name=\"Y_pred\")(d)\n",
    "\n",
    "    model = tf.keras.Model(inputs=[X_input, S_input],\n",
    "                           outputs=[pseudo_Y, S_pred, Y_pred])\n",
    "    model.compile(optimizer=tf.keras.optimizers.Adam(1e-4),\n",
    "                  loss={\"pseudo_Y\": \"binary_crossentropy\",\n",
    "                        \"S_pred\": \"categorical_crossentropy\",\n",
    "                        \"Y_pred\": \"binary_crossentropy\"},\n",
    "                  loss_weights={\"pseudo_Y\": 1.0, \"S_pred\": lambda_adv, \"Y_pred\": 1.0},\n",
    "                  metrics={\"pseudo_Y\": \"accuracy\",\n",
    "                           \"S_pred\": \"accuracy\",\n",
    "                           \"Y_pred\": \"accuracy\"}) # Y_pred is the best estimate of Y accounting for fair dependencies \n",
    "    return model"
   ]
  },
  {
   "cell_type": "code",
   "execution_count": 5,
   "id": "bdce495e-4c4f-4024-81ae-ec51509beaaa",
   "metadata": {},
   "outputs": [],
   "source": [
    "# -------------------------------\n",
    "# Manual Fairness Metrics\n",
    "# -------------------------------\n",
    "def compute_fairness_metrics_manual(y_true, y_pred, sensitive_features):\n",
    "    \"\"\"\n",
    "    Compute fairness metrics manually.\n",
    "    y_true: binary ground-truth labels (1-D numpy array).\n",
    "    y_pred: continuous scores (will be thresholded at 0.5).\n",
    "    sensitive_features: 1-D numpy array (0 or 1).\n",
    "\n",
    "    Returns a dictionary with:\n",
    "      - Demographic parity difference (absolute difference in positive rates).\n",
    "      - Equalized odds difference (average difference in TPR and FPR).\n",
    "      - Selection rates per group.\n",
    "      - Group-wise accuracy.\n",
    "    \"\"\"\n",
    "    y_pred_bin = (y_pred > 0.5).astype(int) # y_pred is continuous value, so converting it to binary \n",
    "    groups = np.unique(sensitive_features)\n",
    "\n",
    "    # Demographic parity \n",
    "    \"\"\"\n",
    "    All groups (from sensitive feature) should receive positive predictions at the same rate\n",
    "    P(Y_hat = 1|S=0) = P(Y_hat=1|S=1)\n",
    "    \"\"\"\n",
    "\n",
    "    # For each group in the sensitive feature, find the demographic parity and compute the difference (based on the formula in above comment)\n",
    "    pos_rates = {}\n",
    "    for g in groups: \n",
    "        pos_rates[g] = np.mean(y_pred_bin[sensitive_features == g])\n",
    "    dp_diff = abs(pos_rates[0] - pos_rates[1]) ## this line assumes that there are only 2 groups, 0 and 1 -- if there are more than 2 groups, this would need to be changed\n",
    "    ## in all the examples used, there were only 2 groups -- need to double check this when working on new data\n",
    "    \n",
    "    # dp_diff > 0, then demographic parity isn't fair \n",
    "\n",
    "    # Equalized odds\n",
    "    \"\"\"\n",
    "    Ensuring the different groups in the sensitive feature similar TPR and FPR rates -- this is so that the model isn't discriminating in error types\n",
    "    \"\"\"\n",
    "    metrics = {}\n",
    "    for g in groups:\n",
    "        mask = (sensitive_features == g)\n",
    "        y_true_g = y_true[mask]\n",
    "        y_pred_g = y_pred_bin[mask]\n",
    "        tpr = np.sum((y_pred_g == 1) & (y_true_g == 1)) / (np.sum(y_true_g == 1) + 1e-8) # True Positive Rate\n",
    "        fpr = np.sum((y_pred_g == 1) & (y_true_g == 0)) / (np.sum(y_true_g == 0) + 1e-8) # False Positive Rate\n",
    "        metrics[g] = (tpr, fpr)\n",
    "    eo_diff = (abs(metrics[0][0] - metrics[1][0]) + abs(metrics[0][1] - metrics[1][1])) # taking average of two error types\n",
    "\n",
    "    # Selection rate per group.\n",
    "    \"\"\"\n",
    "    proportion of samples predicted as positive for each group -- a a group has a higher selection rate, the model may favor that group unfairly\n",
    "    \"\"\"\n",
    "    sel_rate = {}\n",
    "    for g in groups:\n",
    "        sel_rate[g] = pos_rates[g]\n",
    "\n",
    "    # Group-wise accuracy.\n",
    "    \"\"\"\n",
    "    for each group in the sensitive feature, compute the accuracy of the model (to ensure that it's perfoming consistently across groups)\n",
    "    \"\"\"\n",
    "    group_acc = {}\n",
    "    for g in groups:\n",
    "        mask = (sensitive_features == g)\n",
    "        group_acc[g] = accuracy_score(y_true[mask], y_pred_bin[mask])\n",
    "\n",
    "    return {\n",
    "        \"demographic_parity_difference\": dp_diff,\n",
    "        \"equalized_odds_difference\": eo_diff,\n",
    "        \"selection_rate\": sel_rate,\n",
    "        \"group_accuracy\": group_acc\n",
    "    }"
   ]
  },
  {
   "cell_type": "code",
   "execution_count": 6,
   "id": "215ef3cd-b252-45a1-a259-d6b4dd09001b",
   "metadata": {},
   "outputs": [],
   "source": [
    "# -------------------------------\n",
    "# Plotting Function\n",
    "# -------------------------------\n",
    "def plot_comparison(metrics_baseline, metrics_fair):\n",
    "    \"\"\"\n",
    "    parameters are dictionaries with the stored values of the evaluation metrics\n",
    "    \"\"\"\n",
    "    models = ['Baseline', 'Fair']\n",
    "    aucs = [metrics_baseline['auc'], metrics_fair['auc']]\n",
    "    accs = [metrics_baseline['accuracy'], metrics_fair['accuracy']]\n",
    "    dp_diff = [metrics_baseline[\"demographic_parity_difference\"], metrics_fair[\"demographic_parity_difference\"]]\n",
    "    eo_diff = [metrics_baseline[\"equalized_odds_difference\"], metrics_fair[\"equalized_odds_difference\"]]\n",
    "\n",
    "    # creating a 2x3 gird of bar chars comparing baseline model and fair model across: AUC, accuracy, demographic parity diff, equalized odd difference\n",
    "    fig, axs = plt.subplots(2, 2, figsize=(14, 10))\n",
    "\n",
    "    ## measures how well the model seperates postiive and negative classes, higher AUC = better model performance\n",
    "    # if fair model has a lower AUC than the baseline, can indicate a fairness-performance tradeoff (meaning less well seperation for more fair results)\n",
    "    axs[0,0].bar(models, aucs, color=['blue', 'green'])\n",
    "    axs[0,0].set_title('AUC')\n",
    "    axs[0,0].set_ylim([0, 1])\n",
    "\n",
    "    ## correct pred/total pred\n",
    "    ## fairness may lower accuracy \n",
    "    axs[0,1].bar(models, accs, color=['blue', 'green'])\n",
    "    axs[0,1].set_title('Accuracy')\n",
    "    axs[0,1].set_ylim([0, 1])\n",
    "\n",
    "    ## orange = baseline, purple = fairness -LOOK INTO TO SEE HOW TO KNOW WHICH GROUP IS CONTRIBUTING TO HIGHER DP\n",
    "    # lower values of dp indciate better fairness\n",
    "    axs[1,0].bar(models, dp_diff, color=['orange', 'purple'])\n",
    "    axs[1,0].set_title('Demographic Parity Difference')\n",
    "\n",
    "    ## lower value - better fairness\n",
    "    ## equalized odds is satisfied if tpr and fpr are equal across the different groups in the sensitive feature\n",
    "    axs[1,1].bar(models, eo_diff, color=['orange', 'purple'])\n",
    "    axs[1,1].set_title('Equalized Odds Difference')\n",
    "\n",
    "    plt.suptitle(\"Comparison: Baseline (X → Y) vs. Fair (X → Y') Model\")\n",
    "    plt.tight_layout(rect=[0, 0.03, 1, 0.95])\n",
    "    plt.show()"
   ]
  },
  {
   "cell_type": "code",
   "execution_count": 7,
   "id": "bcb64d7f-b1bf-44e6-8a2e-82ec01d85ace",
   "metadata": {},
   "outputs": [],
   "source": [
    "def generate_synthetic_data(n_samples=5000, n_features=30, bias_factor=0.3, noise_level=0.1, seed=42):\n",
    "    np.random.seed(seed)\n",
    "\n",
    "    # Generate Sensitive Attribute S ~ Binomial(1, 0.5)\n",
    "    S = np.random.binomial(1, 0.5, size=n_samples)\n",
    "\n",
    "    # Generate Features X: Some function of S + Multinomial noise\n",
    "    X = np.random.randn(n_samples, n_features) + 0.5 * S[:, np.newaxis]\n",
    "\n",
    "    # Generate True Labels Y (linear function of X + noise)\n",
    "    true_weights = np.random.randn(n_features)\n",
    "    Y_continuous = X @ true_weights + np.random.normal(0, noise_level, size=n_samples)\n",
    "\n",
    "    # Convert Y into discrete categories (multi-class setting)\n",
    "    Y = np.digitize(Y_continuous, bins=np.percentile(Y_continuous, [50]))  # 2 classes (0,1) ## change this later if we want to see \n",
    "\n",
    "    X_train, X_test, Y_train_obs, Y_test_obs, S_train, S_test = train_test_split(\n",
    "        X, Y, S, test_size=0.2, random_state=42\n",
    "    )\n",
    "\n",
    "    return X_train, X_test, Y_train_obs, Y_test_obs, S_train, S_test "
   ]
  },
  {
   "cell_type": "code",
   "execution_count": 8,
   "id": "4db287ff-63dd-4c5d-9aa9-324e31b26826",
   "metadata": {},
   "outputs": [],
   "source": [
    "# def inject_bias(X_train, Y_train, S_train, X_test, Y_test, S_test, bias_factor=0.3, seed=42):\n",
    "def inject_bias(bias_factor=0.4, seed=42):\n",
    "    np.random.seed(seed)\n",
    "    X_train, X_test, Y_train_raw, Y_test_raw, S_train, S_test = generate_synthetic_data()\n",
    "    def apply_bias(Y, S):\n",
    "        flip_mask = np.random.rand(len(Y)) < bias_factor  # Generate a flip mask for this dataset\n",
    "        Y_biased = Y.copy()\n",
    "        Y_biased[flip_mask & (S == 1)] = 1  # Favor positive outcomes for S=1\n",
    "        Y_biased[flip_mask & (S == 0)] = 0  # Favor negative outcomes for S=0\n",
    "        return Y_biased\n",
    "\n",
    "    Y_train_biased = apply_bias(Y_train_raw, S_train)\n",
    "    Y_test_biased = apply_bias(Y_test_raw, S_test)\n",
    "\n",
    "    return Y_train_biased, Y_test_biased\n"
   ]
  },
  {
   "cell_type": "code",
   "execution_count": 14,
   "id": "86fc6588-04a1-4918-bf7c-6f8466a2da09",
   "metadata": {},
   "outputs": [
    {
     "name": "stdout",
     "output_type": "stream",
     "text": [
      "Baseline: AUC:0.9996070947462955, Accuracy:0.99, Demographic Parity Difference:0.015438596491228085, Equalized Odds Difference:0.02260242900471713\n"
     ]
    }
   ],
   "source": [
    "def run_biased_logistic(X_train, Y_train_biased_pred, X_test, Y_test_biased_pred, Y_train_raw, Y_test_raw, S_train, S_test): \n",
    "    clf = LogisticRegression(solver='lbfgs', max_iter=1000)\n",
    "    clf.fit(X_train, Y_train_biased_pred)\n",
    "    preds = clf.predict_proba(X_test)[:, 1]\n",
    "    auc = roc_auc_score(Y_test_raw, preds)\n",
    "    acc = accuracy_score(Y_test_raw, (preds > 0.5).astype(int))\n",
    "    fairness = compute_fairness_metrics_manual(Y_test_raw, preds, sensitive_features=S_test)\n",
    "    \n",
    "    return auc, acc,fairness\n",
    "\n",
    "def run_unbiased_logistic(): \n",
    "    X_train, X_test, Y_train_raw, Y_test_raw, S_train, S_test = generate_synthetic_data() ##  Y is binary class, S is binary\n",
    "    clf = LogisticRegression(solver='lbfgs', max_iter=1000)\n",
    "    clf.fit(X_train, Y_train_raw)\n",
    "    preds = clf.predict_proba(X_test)[:, 1]\n",
    "    auc = roc_auc_score(Y_test_raw, preds)\n",
    "    acc = accuracy_score(Y_test_raw, (preds > 0.5).astype(int))\n",
    "    fairness = compute_fairness_metrics_manual(Y_test_raw, preds, sensitive_features=S_test)\n",
    "\n",
    "    dp_diff = fairness[\"demographic_parity_difference\"]\n",
    "    eo_diff = fairness[\"equalized_odds_difference\"]\n",
    "\n",
    "    print (f\"Baseline: AUC:{auc}, Accuracy:{acc}, Demographic Parity Difference:{dp_diff}, Equalized Odds Difference:{eo_diff}\")\n",
    "\n",
    "run_unbiased_logistic()"
   ]
  },
  {
   "cell_type": "code",
   "execution_count": 15,
   "id": "9934d0d9-03c6-4480-a9d2-90283ba9e07c",
   "metadata": {},
   "outputs": [],
   "source": [
    "# -------------------------------\n",
    "# Main Function: Comparison and Visualization\n",
    "# -------------------------------\n",
    "def main_synthetic(lambda_adv=1.0, epochs=64, batch_size=128):\n",
    "    set_seed(42)\n",
    "\n",
    "    X_train, X_test, Y_train_raw, Y_test_raw, S_train, S_test = generate_synthetic_data() ##  Y is binary class, S is binary\n",
    "    # Y_train_biased, Y_test_biased = inject_bias(X_train, Y_train_raw, S_train, Y_test_raw, S_train, S_test, bias_factor=0.3, seed=42)\n",
    "    Y_train_biased, Y_test_biased = inject_bias(bias_factor=0.3, seed=42)\n",
    "\n",
    "    input_dim = X_train.shape[1]\n",
    "\n",
    "    # One-hot encode S for adversarial model training.\n",
    "    S_train_oh = tf.keras.utils.to_categorical(S_train, num_classes=2)\n",
    "    S_test_oh  = tf.keras.utils.to_categorical(S_test, num_classes=2)\n",
    "\n",
    "    ### 1. Train adversarial debiasing model (X → Y' with adversary)\n",
    "    print(\"\\nTraining adversarial model (X → Y' with adversary) ...\")\n",
    "    adv_model = build_adversarial_model(input_dim, lambda_adv=lambda_adv)\n",
    "    Y_train_biased_exp = Y_train_biased.reshape(-1, 1)\n",
    "    Y_test_biased_exp  = Y_test_biased.reshape(-1, 1)\n",
    "    adv_model.fit([X_train, S_train_oh],\n",
    "                  {\"pseudo_Y\": Y_train_biased_exp, \"S_pred\": S_train_oh, \"Y_pred\": Y_train_biased_exp},\n",
    "                  epochs=64, batch_size=128, verbose=1)\n",
    "\n",
    "    # Get predictions \n",
    "    pseudo_Y_train, S_pred, Y_pred_train = adv_model.predict([X_train, S_train_oh]) ## do we want psuedo_Y or Y_pred? psuedo_Y is for complete fairness why pred_Y can be a bit more accurate by keep necessary dependencies\n",
    "    pseudo_Y_test,  S_pred, Y_pred_test = adv_model.predict([X_test, S_test_oh])\n",
    "\n",
    "    # # THIS IS WITH PSUEDO_Y - Professor's way\n",
    "    Y_pred_train_bin = (pseudo_Y_train > 0.5).astype(np.float32)\n",
    "    Y_pred_test_bin  = (pseudo_Y_test > 0.5).astype(np.float32)\n",
    "\n",
    "    # # # THIS IS WITH Y_PRED\n",
    "    # Y_pred_train_bin = (Y_pred_train > 0.5).astype(np.float32)\n",
    "    # Y_pred_test_bin  = (Y_pred_test > 0.5).astype(np.float32)\n",
    "\n",
    "    print(\"\\nPseudo-label statistics (training):\")\n",
    "    for g in np.unique(S_train):\n",
    "        mask = (S_train == g)\n",
    "        print(f\"Group {g} pseudo-positive rate: {np.mean(Y_pred_train_bin[mask]):.4f}\") # average probability of a postive prediction per group -- fairness check to see if both groups receive similar treatment\n",
    "\n",
    "    ### 2. Train baseline logistic regression model on observed Y (X → Y) -- regular logistic regression for baseline for comparison; does not include any fairness constraints\n",
    "    print(\"\\nTraining baseline [BIASED] logistic regression classifier (X → Y)...\")\n",
    "    baseline_auc, baseline_acc, baseline_fairness = run_biased_logistic(X_train, Y_train_biased, X_test, Y_test_biased,  Y_train_raw, Y_test_raw, S_train, S_test)\n",
    "\n",
    "    ### 3. Train fair logistic regression model on pseudo-labels (X → Y') -- using psuedo_Y from the the adv_model, \n",
    "    print(\"\\nTraining fair logistic regression classifier (X → Y') using pseudo-labels...\")\n",
    "    fair_auc, fair_acc, fair_fairness = run_biased_logistic(X_train, Y_pred_train_bin, X_test, Y_pred_test_bin, Y_train_raw, Y_test_raw, S_train, S_test)\n",
    "\n",
    "    # Aggregate metrics for plotting.\n",
    "    metrics_baseline = {\n",
    "        \"auc\": baseline_auc,\n",
    "        \"accuracy\": baseline_acc,\n",
    "        \"demographic_parity_difference\": baseline_fairness[\"demographic_parity_difference\"],\n",
    "        \"equalized_odds_difference\": baseline_fairness[\"equalized_odds_difference\"]\n",
    "    }\n",
    "    metrics_fair = {\n",
    "        \"auc\": fair_auc,\n",
    "        \"accuracy\": fair_acc,\n",
    "        \"demographic_parity_difference\": fair_fairness[\"demographic_parity_difference\"],\n",
    "        \"equalized_odds_difference\": fair_fairness[\"equalized_odds_difference\"]\n",
    "    }\n",
    "\n",
    "    print(\"\\nBaseline Logistic Regression (X → Y) Evaluation:\")\n",
    "    print(f\"AUC: {baseline_auc:.4f}, Accuracy: {baseline_acc:.4f}\")\n",
    "    print(\"Fairness metrics:\", baseline_fairness)\n",
    "\n",
    "    print(\"\\nFair Logistic Regression (X → Y') Evaluation (compared to observed Y):\")\n",
    "    print(f\"AUC: {fair_auc:.4f}, Accuracy: {fair_acc:.4f}\")\n",
    "    print(\"Fairness metrics:\", fair_fairness)\n",
    "\n",
    "    # Plot comparison.\n",
    "    plot_comparison(metrics_baseline, metrics_fair)"
   ]
  },
  {
   "cell_type": "markdown",
   "id": "046a7324-619d-470b-9ec7-f1b4bf6d984f",
   "metadata": {},
   "source": [
    "### Application on Datasets"
   ]
  },
  {
   "cell_type": "markdown",
   "id": "0e4a8cb1-26fd-47ae-ba82-01642fb05249",
   "metadata": {},
   "source": [
    "#### Synthetic Datasets"
   ]
  },
  {
   "cell_type": "code",
   "execution_count": 16,
   "id": "53f08737-2fab-439f-aef0-27536aa9cf27",
   "metadata": {},
   "outputs": [
    {
     "name": "stdout",
     "output_type": "stream",
     "text": [
      "\n",
      "Training adversarial model (X → Y' with adversary) ...\n",
      "Epoch 1/64\n",
      "32/32 [==============================] - 2s 11ms/step - loss: 4.3876 - pseudo_Y_loss: 0.9277 - S_pred_loss: 0.7965 - Y_pred_loss: 1.0703 - pseudo_Y_accuracy: 0.4837 - S_pred_accuracy: 0.4848 - Y_pred_accuracy: 0.3927\n",
      "Epoch 2/64\n",
      "32/32 [==============================] - 0s 7ms/step - loss: 4.3707 - pseudo_Y_loss: 0.9013 - S_pred_loss: 0.8247 - Y_pred_loss: 0.9953 - pseudo_Y_accuracy: 0.4997 - S_pred_accuracy: 0.4120 - Y_pred_accuracy: 0.4060\n",
      "Epoch 3/64\n",
      "32/32 [==============================] - 0s 9ms/step - loss: 4.2791 - pseudo_Y_loss: 0.8815 - S_pred_loss: 0.8223 - Y_pred_loss: 0.9308 - pseudo_Y_accuracy: 0.5230 - S_pred_accuracy: 0.3685 - Y_pred_accuracy: 0.4240\n",
      "Epoch 4/64\n",
      "32/32 [==============================] - 0s 6ms/step - loss: 4.1395 - pseudo_Y_loss: 0.8654 - S_pred_loss: 0.7992 - Y_pred_loss: 0.8767 - pseudo_Y_accuracy: 0.5328 - S_pred_accuracy: 0.3230 - Y_pred_accuracy: 0.4417\n",
      "Epoch 5/64\n",
      "32/32 [==============================] - 0s 5ms/step - loss: 3.9751 - pseudo_Y_loss: 0.8494 - S_pred_loss: 0.7627 - Y_pred_loss: 0.8375 - pseudo_Y_accuracy: 0.5490 - S_pred_accuracy: 0.3002 - Y_pred_accuracy: 0.4622\n",
      "Epoch 6/64\n",
      "32/32 [==============================] - 0s 4ms/step - loss: 3.8177 - pseudo_Y_loss: 0.8364 - S_pred_loss: 0.7250 - Y_pred_loss: 0.8063 - pseudo_Y_accuracy: 0.5548 - S_pred_accuracy: 0.2928 - Y_pred_accuracy: 0.4905\n",
      "Epoch 7/64\n",
      "32/32 [==============================] - 0s 5ms/step - loss: 3.6651 - pseudo_Y_loss: 0.8163 - S_pred_loss: 0.6905 - Y_pred_loss: 0.7774 - pseudo_Y_accuracy: 0.5617 - S_pred_accuracy: 0.5510 - Y_pred_accuracy: 0.5203\n",
      "Epoch 8/64\n",
      "32/32 [==============================] - 0s 4ms/step - loss: 3.5305 - pseudo_Y_loss: 0.7932 - S_pred_loss: 0.6612 - Y_pred_loss: 0.7537 - pseudo_Y_accuracy: 0.5740 - S_pred_accuracy: 0.7193 - Y_pred_accuracy: 0.5355\n",
      "Epoch 9/64\n",
      "32/32 [==============================] - 0s 4ms/step - loss: 3.4336 - pseudo_Y_loss: 0.7718 - S_pred_loss: 0.6418 - Y_pred_loss: 0.7362 - pseudo_Y_accuracy: 0.5860 - S_pred_accuracy: 0.7143 - Y_pred_accuracy: 0.5495\n",
      "Epoch 10/64\n",
      "32/32 [==============================] - 0s 4ms/step - loss: 3.3732 - pseudo_Y_loss: 0.7498 - S_pred_loss: 0.6348 - Y_pred_loss: 0.7191 - pseudo_Y_accuracy: 0.5925 - S_pred_accuracy: 0.6885 - Y_pred_accuracy: 0.5650\n",
      "Epoch 11/64\n",
      "32/32 [==============================] - 0s 4ms/step - loss: 3.3694 - pseudo_Y_loss: 0.7299 - S_pred_loss: 0.6442 - Y_pred_loss: 0.7071 - pseudo_Y_accuracy: 0.6022 - S_pred_accuracy: 0.6463 - Y_pred_accuracy: 0.5773\n",
      "Epoch 12/64\n",
      "32/32 [==============================] - 0s 5ms/step - loss: 3.4306 - pseudo_Y_loss: 0.7160 - S_pred_loss: 0.6715 - Y_pred_loss: 0.7001 - pseudo_Y_accuracy: 0.6000 - S_pred_accuracy: 0.5872 - Y_pred_accuracy: 0.5800\n",
      "Epoch 13/64\n",
      "32/32 [==============================] - 0s 4ms/step - loss: 3.5295 - pseudo_Y_loss: 0.7166 - S_pred_loss: 0.7062 - Y_pred_loss: 0.6942 - pseudo_Y_accuracy: 0.5995 - S_pred_accuracy: 0.5173 - Y_pred_accuracy: 0.5755\n",
      "Epoch 14/64\n",
      "32/32 [==============================] - 0s 4ms/step - loss: 3.6065 - pseudo_Y_loss: 0.7271 - S_pred_loss: 0.7294 - Y_pred_loss: 0.6911 - pseudo_Y_accuracy: 0.5855 - S_pred_accuracy: 0.4505 - Y_pred_accuracy: 0.5695\n",
      "Epoch 15/64\n",
      "32/32 [==============================] - 0s 5ms/step - loss: 3.6196 - pseudo_Y_loss: 0.7425 - S_pred_loss: 0.7306 - Y_pred_loss: 0.6853 - pseudo_Y_accuracy: 0.5735 - S_pred_accuracy: 0.4070 - Y_pred_accuracy: 0.5688\n",
      "Epoch 16/64\n",
      "32/32 [==============================] - 0s 4ms/step - loss: 3.5604 - pseudo_Y_loss: 0.7417 - S_pred_loss: 0.7158 - Y_pred_loss: 0.6714 - pseudo_Y_accuracy: 0.5700 - S_pred_accuracy: 0.3857 - Y_pred_accuracy: 0.5900\n",
      "Epoch 17/64\n",
      "32/32 [==============================] - 0s 4ms/step - loss: 3.4855 - pseudo_Y_loss: 0.7338 - S_pred_loss: 0.6988 - Y_pred_loss: 0.6552 - pseudo_Y_accuracy: 0.5795 - S_pred_accuracy: 0.4277 - Y_pred_accuracy: 0.6210\n",
      "Epoch 18/64\n",
      "32/32 [==============================] - 0s 5ms/step - loss: 3.4052 - pseudo_Y_loss: 0.7120 - S_pred_loss: 0.6864 - Y_pred_loss: 0.6339 - pseudo_Y_accuracy: 0.5975 - S_pred_accuracy: 0.6060 - Y_pred_accuracy: 0.6450\n",
      "Epoch 19/64\n",
      "32/32 [==============================] - 0s 4ms/step - loss: 3.3548 - pseudo_Y_loss: 0.6848 - S_pred_loss: 0.6843 - Y_pred_loss: 0.6172 - pseudo_Y_accuracy: 0.6155 - S_pred_accuracy: 0.5778 - Y_pred_accuracy: 0.6668\n",
      "Epoch 20/64\n",
      "32/32 [==============================] - 0s 4ms/step - loss: 3.3289 - pseudo_Y_loss: 0.6572 - S_pred_loss: 0.6897 - Y_pred_loss: 0.6025 - pseudo_Y_accuracy: 0.6357 - S_pred_accuracy: 0.5365 - Y_pred_accuracy: 0.6777\n",
      "Epoch 21/64\n",
      "32/32 [==============================] - 0s 4ms/step - loss: 3.3152 - pseudo_Y_loss: 0.6319 - S_pred_loss: 0.6971 - Y_pred_loss: 0.5919 - pseudo_Y_accuracy: 0.6578 - S_pred_accuracy: 0.4965 - Y_pred_accuracy: 0.6805\n",
      "Epoch 22/64\n",
      "32/32 [==============================] - 0s 4ms/step - loss: 3.2967 - pseudo_Y_loss: 0.6127 - S_pred_loss: 0.7004 - Y_pred_loss: 0.5826 - pseudo_Y_accuracy: 0.6735 - S_pred_accuracy: 0.4585 - Y_pred_accuracy: 0.6830\n",
      "Epoch 23/64\n",
      "32/32 [==============================] - 0s 4ms/step - loss: 3.2666 - pseudo_Y_loss: 0.5987 - S_pred_loss: 0.6967 - Y_pred_loss: 0.5777 - pseudo_Y_accuracy: 0.6840 - S_pred_accuracy: 0.4588 - Y_pred_accuracy: 0.6845\n",
      "Epoch 24/64\n",
      "32/32 [==============================] - 0s 4ms/step - loss: 3.2340 - pseudo_Y_loss: 0.5925 - S_pred_loss: 0.6896 - Y_pred_loss: 0.5727 - pseudo_Y_accuracy: 0.6880 - S_pred_accuracy: 0.5523 - Y_pred_accuracy: 0.6933\n",
      "Epoch 25/64\n",
      "32/32 [==============================] - 0s 4ms/step - loss: 3.2043 - pseudo_Y_loss: 0.5833 - S_pred_loss: 0.6858 - Y_pred_loss: 0.5635 - pseudo_Y_accuracy: 0.6970 - S_pred_accuracy: 0.5732 - Y_pred_accuracy: 0.6963\n",
      "Epoch 26/64\n",
      "32/32 [==============================] - 0s 4ms/step - loss: 3.2004 - pseudo_Y_loss: 0.5814 - S_pred_loss: 0.6874 - Y_pred_loss: 0.5567 - pseudo_Y_accuracy: 0.6988 - S_pred_accuracy: 0.5520 - Y_pred_accuracy: 0.7080\n",
      "Epoch 27/64\n",
      "32/32 [==============================] - 0s 4ms/step - loss: 3.2126 - pseudo_Y_loss: 0.5840 - S_pred_loss: 0.6926 - Y_pred_loss: 0.5508 - pseudo_Y_accuracy: 0.6973 - S_pred_accuracy: 0.5165 - Y_pred_accuracy: 0.7128\n",
      "Epoch 28/64\n",
      "32/32 [==============================] - 0s 5ms/step - loss: 3.2317 - pseudo_Y_loss: 0.5935 - S_pred_loss: 0.6968 - Y_pred_loss: 0.5479 - pseudo_Y_accuracy: 0.6957 - S_pred_accuracy: 0.4882 - Y_pred_accuracy: 0.7182\n",
      "Epoch 29/64\n",
      "32/32 [==============================] - 0s 4ms/step - loss: 3.2284 - pseudo_Y_loss: 0.5940 - S_pred_loss: 0.6974 - Y_pred_loss: 0.5422 - pseudo_Y_accuracy: 0.6915 - S_pred_accuracy: 0.4708 - Y_pred_accuracy: 0.7245\n",
      "Epoch 30/64\n",
      "32/32 [==============================] - 0s 4ms/step - loss: 3.2125 - pseudo_Y_loss: 0.5910 - S_pred_loss: 0.6951 - Y_pred_loss: 0.5361 - pseudo_Y_accuracy: 0.6957 - S_pred_accuracy: 0.4787 - Y_pred_accuracy: 0.7290\n",
      "Epoch 31/64\n",
      "32/32 [==============================] - 0s 4ms/step - loss: 3.1934 - pseudo_Y_loss: 0.5843 - S_pred_loss: 0.6931 - Y_pred_loss: 0.5299 - pseudo_Y_accuracy: 0.7075 - S_pred_accuracy: 0.5038 - Y_pred_accuracy: 0.7322\n",
      "Epoch 32/64\n",
      "32/32 [==============================] - 0s 4ms/step - loss: 3.1715 - pseudo_Y_loss: 0.5721 - S_pred_loss: 0.6926 - Y_pred_loss: 0.5215 - pseudo_Y_accuracy: 0.7145 - S_pred_accuracy: 0.5155 - Y_pred_accuracy: 0.7368\n",
      "Epoch 33/64\n",
      "32/32 [==============================] - 0s 3ms/step - loss: 3.1556 - pseudo_Y_loss: 0.5592 - S_pred_loss: 0.6935 - Y_pred_loss: 0.5160 - pseudo_Y_accuracy: 0.7290 - S_pred_accuracy: 0.5063 - Y_pred_accuracy: 0.7398\n",
      "Epoch 34/64\n",
      "32/32 [==============================] - 0s 4ms/step - loss: 3.1431 - pseudo_Y_loss: 0.5497 - S_pred_loss: 0.6938 - Y_pred_loss: 0.5120 - pseudo_Y_accuracy: 0.7293 - S_pred_accuracy: 0.4875 - Y_pred_accuracy: 0.7412\n",
      "Epoch 35/64\n",
      "32/32 [==============================] - 0s 4ms/step - loss: 3.1270 - pseudo_Y_loss: 0.5411 - S_pred_loss: 0.6931 - Y_pred_loss: 0.5067 - pseudo_Y_accuracy: 0.7347 - S_pred_accuracy: 0.5090 - Y_pred_accuracy: 0.7365\n",
      "Epoch 36/64\n",
      "32/32 [==============================] - 0s 4ms/step - loss: 3.1141 - pseudo_Y_loss: 0.5362 - S_pred_loss: 0.6917 - Y_pred_loss: 0.5028 - pseudo_Y_accuracy: 0.7385 - S_pred_accuracy: 0.5270 - Y_pred_accuracy: 0.7430\n",
      "Epoch 37/64\n",
      "32/32 [==============================] - 0s 4ms/step - loss: 3.1098 - pseudo_Y_loss: 0.5360 - S_pred_loss: 0.6917 - Y_pred_loss: 0.4988 - pseudo_Y_accuracy: 0.7433 - S_pred_accuracy: 0.5285 - Y_pred_accuracy: 0.7510\n",
      "Epoch 38/64\n",
      "32/32 [==============================] - 0s 4ms/step - loss: 3.1084 - pseudo_Y_loss: 0.5373 - S_pred_loss: 0.6929 - Y_pred_loss: 0.4924 - pseudo_Y_accuracy: 0.7492 - S_pred_accuracy: 0.5117 - Y_pred_accuracy: 0.7552\n",
      "Epoch 39/64\n",
      "32/32 [==============================] - 0s 4ms/step - loss: 3.1034 - pseudo_Y_loss: 0.5364 - S_pred_loss: 0.6939 - Y_pred_loss: 0.4854 - pseudo_Y_accuracy: 0.7492 - S_pred_accuracy: 0.5015 - Y_pred_accuracy: 0.7600\n",
      "Epoch 40/64\n",
      "32/32 [==============================] - 0s 4ms/step - loss: 3.1055 - pseudo_Y_loss: 0.5401 - S_pred_loss: 0.6941 - Y_pred_loss: 0.4831 - pseudo_Y_accuracy: 0.7495 - S_pred_accuracy: 0.4950 - Y_pred_accuracy: 0.7545\n",
      "Epoch 41/64\n",
      "32/32 [==============================] - 0s 4ms/step - loss: 3.0991 - pseudo_Y_loss: 0.5385 - S_pred_loss: 0.6937 - Y_pred_loss: 0.4795 - pseudo_Y_accuracy: 0.7467 - S_pred_accuracy: 0.4960 - Y_pred_accuracy: 0.7663\n",
      "Epoch 42/64\n",
      "32/32 [==============================] - 0s 6ms/step - loss: 3.0874 - pseudo_Y_loss: 0.5328 - S_pred_loss: 0.6934 - Y_pred_loss: 0.4744 - pseudo_Y_accuracy: 0.7530 - S_pred_accuracy: 0.4997 - Y_pred_accuracy: 0.7655\n",
      "Epoch 43/64\n",
      "32/32 [==============================] - 0s 4ms/step - loss: 3.0763 - pseudo_Y_loss: 0.5259 - S_pred_loss: 0.6933 - Y_pred_loss: 0.4704 - pseudo_Y_accuracy: 0.7560 - S_pred_accuracy: 0.4963 - Y_pred_accuracy: 0.7720\n",
      "Epoch 44/64\n",
      "32/32 [==============================] - 0s 4ms/step - loss: 3.0688 - pseudo_Y_loss: 0.5214 - S_pred_loss: 0.6932 - Y_pred_loss: 0.4679 - pseudo_Y_accuracy: 0.7628 - S_pred_accuracy: 0.5013 - Y_pred_accuracy: 0.7713\n",
      "Epoch 45/64\n",
      "32/32 [==============================] - 0s 4ms/step - loss: 3.0586 - pseudo_Y_loss: 0.5151 - S_pred_loss: 0.6929 - Y_pred_loss: 0.4647 - pseudo_Y_accuracy: 0.7663 - S_pred_accuracy: 0.5005 - Y_pred_accuracy: 0.7700\n",
      "Epoch 46/64\n",
      "32/32 [==============================] - 0s 4ms/step - loss: 3.0555 - pseudo_Y_loss: 0.5147 - S_pred_loss: 0.6928 - Y_pred_loss: 0.4625 - pseudo_Y_accuracy: 0.7653 - S_pred_accuracy: 0.5115 - Y_pred_accuracy: 0.7738\n",
      "Epoch 47/64\n",
      "32/32 [==============================] - 0s 4ms/step - loss: 3.0570 - pseudo_Y_loss: 0.5163 - S_pred_loss: 0.6929 - Y_pred_loss: 0.4622 - pseudo_Y_accuracy: 0.7703 - S_pred_accuracy: 0.5142 - Y_pred_accuracy: 0.7720\n",
      "Epoch 48/64\n",
      "32/32 [==============================] - 0s 4ms/step - loss: 3.0425 - pseudo_Y_loss: 0.5102 - S_pred_loss: 0.6930 - Y_pred_loss: 0.4534 - pseudo_Y_accuracy: 0.7732 - S_pred_accuracy: 0.5117 - Y_pred_accuracy: 0.7775\n",
      "Epoch 49/64\n",
      "32/32 [==============================] - 0s 4ms/step - loss: 3.0436 - pseudo_Y_loss: 0.5125 - S_pred_loss: 0.6932 - Y_pred_loss: 0.4515 - pseudo_Y_accuracy: 0.7703 - S_pred_accuracy: 0.5145 - Y_pred_accuracy: 0.7828\n",
      "Epoch 50/64\n",
      "32/32 [==============================] - 0s 4ms/step - loss: 3.0380 - pseudo_Y_loss: 0.5114 - S_pred_loss: 0.6934 - Y_pred_loss: 0.4463 - pseudo_Y_accuracy: 0.7715 - S_pred_accuracy: 0.5005 - Y_pred_accuracy: 0.7887\n",
      "Epoch 51/64\n",
      "32/32 [==============================] - 0s 4ms/step - loss: 3.0405 - pseudo_Y_loss: 0.5126 - S_pred_loss: 0.6932 - Y_pred_loss: 0.4483 - pseudo_Y_accuracy: 0.7765 - S_pred_accuracy: 0.4940 - Y_pred_accuracy: 0.7875\n",
      "Epoch 52/64\n",
      "32/32 [==============================] - 0s 4ms/step - loss: 3.0289 - pseudo_Y_loss: 0.5059 - S_pred_loss: 0.6931 - Y_pred_loss: 0.4437 - pseudo_Y_accuracy: 0.7815 - S_pred_accuracy: 0.4955 - Y_pred_accuracy: 0.7875\n",
      "Epoch 53/64\n",
      "32/32 [==============================] - 0s 4ms/step - loss: 3.0223 - pseudo_Y_loss: 0.5030 - S_pred_loss: 0.6929 - Y_pred_loss: 0.4405 - pseudo_Y_accuracy: 0.7818 - S_pred_accuracy: 0.5020 - Y_pred_accuracy: 0.7893\n",
      "Epoch 54/64\n",
      "32/32 [==============================] - 0s 4ms/step - loss: 3.0144 - pseudo_Y_loss: 0.4992 - S_pred_loss: 0.6928 - Y_pred_loss: 0.4369 - pseudo_Y_accuracy: 0.7853 - S_pred_accuracy: 0.5092 - Y_pred_accuracy: 0.7895\n",
      "Epoch 55/64\n",
      "32/32 [==============================] - 0s 4ms/step - loss: 3.0078 - pseudo_Y_loss: 0.4968 - S_pred_loss: 0.6928 - Y_pred_loss: 0.4326 - pseudo_Y_accuracy: 0.7930 - S_pred_accuracy: 0.5140 - Y_pred_accuracy: 0.7915\n",
      "Epoch 56/64\n",
      "32/32 [==============================] - 0s 4ms/step - loss: 3.0080 - pseudo_Y_loss: 0.4982 - S_pred_loss: 0.6930 - Y_pred_loss: 0.4308 - pseudo_Y_accuracy: 0.7912 - S_pred_accuracy: 0.5063 - Y_pred_accuracy: 0.7943\n",
      "Epoch 57/64\n",
      "32/32 [==============================] - 0s 4ms/step - loss: 3.0081 - pseudo_Y_loss: 0.4988 - S_pred_loss: 0.6932 - Y_pred_loss: 0.4299 - pseudo_Y_accuracy: 0.7893 - S_pred_accuracy: 0.5055 - Y_pred_accuracy: 0.7977\n",
      "Epoch 58/64\n",
      "32/32 [==============================] - 0s 4ms/step - loss: 3.0043 - pseudo_Y_loss: 0.4976 - S_pred_loss: 0.6932 - Y_pred_loss: 0.4272 - pseudo_Y_accuracy: 0.7872 - S_pred_accuracy: 0.5033 - Y_pred_accuracy: 0.8005\n",
      "Epoch 59/64\n",
      "32/32 [==============================] - 0s 4ms/step - loss: 3.0003 - pseudo_Y_loss: 0.4968 - S_pred_loss: 0.6931 - Y_pred_loss: 0.4242 - pseudo_Y_accuracy: 0.7897 - S_pred_accuracy: 0.4967 - Y_pred_accuracy: 0.7993\n",
      "Epoch 60/64\n",
      "32/32 [==============================] - 0s 4ms/step - loss: 2.9965 - pseudo_Y_loss: 0.4936 - S_pred_loss: 0.6930 - Y_pred_loss: 0.4240 - pseudo_Y_accuracy: 0.7943 - S_pred_accuracy: 0.5008 - Y_pred_accuracy: 0.7985\n",
      "Epoch 61/64\n",
      "32/32 [==============================] - 0s 4ms/step - loss: 2.9884 - pseudo_Y_loss: 0.4903 - S_pred_loss: 0.6929 - Y_pred_loss: 0.4193 - pseudo_Y_accuracy: 0.7995 - S_pred_accuracy: 0.5060 - Y_pred_accuracy: 0.8040\n",
      "Epoch 62/64\n",
      "32/32 [==============================] - 0s 4ms/step - loss: 2.9890 - pseudo_Y_loss: 0.4912 - S_pred_loss: 0.6930 - Y_pred_loss: 0.4188 - pseudo_Y_accuracy: 0.7922 - S_pred_accuracy: 0.5090 - Y_pred_accuracy: 0.8058\n",
      "Epoch 63/64\n",
      "32/32 [==============================] - 0s 4ms/step - loss: 2.9890 - pseudo_Y_loss: 0.4902 - S_pred_loss: 0.6929 - Y_pred_loss: 0.4201 - pseudo_Y_accuracy: 0.7962 - S_pred_accuracy: 0.5035 - Y_pred_accuracy: 0.8020\n",
      "Epoch 64/64\n",
      "32/32 [==============================] - 0s 4ms/step - loss: 2.9819 - pseudo_Y_loss: 0.4865 - S_pred_loss: 0.6928 - Y_pred_loss: 0.4171 - pseudo_Y_accuracy: 0.8005 - S_pred_accuracy: 0.5067 - Y_pred_accuracy: 0.7968\n",
      "125/125 [==============================] - 0s 1ms/step\n",
      "32/32 [==============================] - 0s 1ms/step\n",
      "\n",
      "Pseudo-label statistics (training):\n",
      "Group 0 pseudo-positive rate: 0.4906\n",
      "Group 1 pseudo-positive rate: 0.5096\n",
      "\n",
      "Training baseline [BIASED] logistic regression classifier (X → Y)...\n",
      "\n",
      "Training fair logistic regression classifier (X → Y') using pseudo-labels...\n",
      "\n",
      "Baseline Logistic Regression (X → Y) Evaluation:\n",
      "AUC: 0.9450, Accuracy: 0.8470\n",
      "Fairness metrics: {'demographic_parity_difference': 0.2998496240601503, 'equalized_odds_difference': 0.5809983620242689, 'selection_rate': {0: 0.3485714285714286, 1: 0.6484210526315789}, 'group_accuracy': {0: 0.8666666666666667, 1: 0.8252631578947368}}\n",
      "\n",
      "Fair Logistic Regression (X → Y') Evaluation (compared to observed Y):\n",
      "AUC: 0.9918, Accuracy: 0.9520\n",
      "Fairness metrics: {'demographic_parity_difference': 0.0797994987468672, 'equalized_odds_difference': 0.1388321300244143, 'selection_rate': {0: 0.4380952380952381, 1: 0.5178947368421053}, 'group_accuracy': {0: 0.9523809523809523, 1: 0.9515789473684211}}\n"
     ]
    },
    {
     "name": "stderr",
     "output_type": "stream",
     "text": [
      "/opt/conda/lib/python3.11/site-packages/sklearn/utils/validation.py:1300: DataConversionWarning: A column-vector y was passed when a 1d array was expected. Please change the shape of y to (n_samples, ), for example using ravel().\n",
      "  y = column_or_1d(y, warn=True)\n"
     ]
    },
    {
     "data": {
      "image/png": "[encoded data removed]",
      "text/plain": [
       "<Figure size 1400x1000 with 4 Axes>"
      ]
     },
     "metadata": {},
     "output_type": "display_data"
    }
   ],
   "source": [
    "main_synthetic(lambda_adv=3.0)"
   ]
  },
  {
   "cell_type": "code",
   "execution_count": 11,
   "id": "1b86e898-d71b-42d7-a0d9-ca66501381ad",
   "metadata": {},
   "outputs": [],
   "source": [
    "### last thing to do -- need to hypertune \n",
    "### need to do synthetic dataset for a multiclass"
   ]
  },
  {
   "cell_type": "code",
   "execution_count": 10,
   "id": "f65247ba-a7aa-4e3b-a8fb-a3ef2b7905e9",
   "metadata": {},
   "outputs": [
    {
     "name": "stdout",
     "output_type": "stream",
     "text": [
      "\n",
      "Testing lambda_adv=1.0, epochs=32, batch_size=64\n"
     ]
    },
    {
     "name": "stderr",
     "output_type": "stream",
     "text": [
      "/opt/conda/lib/python3.11/site-packages/sklearn/utils/validation.py:1300: DataConversionWarning: A column-vector y was passed when a 1d array was expected. Please change the shape of y to (n_samples, ), for example using ravel().\n",
      "  y = column_or_1d(y, warn=True)\n"
     ]
    },
    {
     "name": "stdout",
     "output_type": "stream",
     "text": [
      "  Fold 1: Score=1.2623, Accuracy=0.7661, AUC=0.7667, Demographic Parity Diff=0.2706\n"
     ]
    },
    {
     "name": "stderr",
     "output_type": "stream",
     "text": [
      "/opt/conda/lib/python3.11/site-packages/sklearn/utils/validation.py:1300: DataConversionWarning: A column-vector y was passed when a 1d array was expected. Please change the shape of y to (n_samples, ), for example using ravel().\n",
      "  y = column_or_1d(y, warn=True)\n"
     ]
    },
    {
     "name": "stdout",
     "output_type": "stream",
     "text": [
      "  Fold 2: Score=1.2297, Accuracy=0.7442, AUC=0.7448, Demographic Parity Diff=0.2593\n"
     ]
    },
    {
     "name": "stderr",
     "output_type": "stream",
     "text": [
      "/opt/conda/lib/python3.11/site-packages/sklearn/utils/validation.py:1300: DataConversionWarning: A column-vector y was passed when a 1d array was expected. Please change the shape of y to (n_samples, ), for example using ravel().\n",
      "  y = column_or_1d(y, warn=True)\n"
     ]
    },
    {
     "name": "stdout",
     "output_type": "stream",
     "text": [
      "  Fold 3: Score=1.2741, Accuracy=0.7532, AUC=0.7528, Demographic Parity Diff=0.2319\n",
      "  Final (Avg) for lambda_adv=1.0, epochs=32, batch_size=64: Score=1.2554, Accuracy=0.7545, AUC=0.7548, Demographic Parity Diff=0.2539\n",
      "\n",
      "Testing lambda_adv=1.0, epochs=32, batch_size=128\n"
     ]
    },
    {
     "name": "stderr",
     "output_type": "stream",
     "text": [
      "/opt/conda/lib/python3.11/site-packages/sklearn/utils/validation.py:1300: DataConversionWarning: A column-vector y was passed when a 1d array was expected. Please change the shape of y to (n_samples, ), for example using ravel().\n",
      "  y = column_or_1d(y, warn=True)\n"
     ]
    },
    {
     "name": "stdout",
     "output_type": "stream",
     "text": [
      "  Fold 1: Score=1.1065, Accuracy=0.7361, AUC=0.7356, Demographic Parity Diff=0.3652\n"
     ]
    },
    {
     "name": "stderr",
     "output_type": "stream",
     "text": [
      "/opt/conda/lib/python3.11/site-packages/sklearn/utils/validation.py:1300: DataConversionWarning: A column-vector y was passed when a 1d array was expected. Please change the shape of y to (n_samples, ), for example using ravel().\n",
      "  y = column_or_1d(y, warn=True)\n"
     ]
    },
    {
     "name": "stdout",
     "output_type": "stream",
     "text": [
      "  Fold 2: Score=0.9210, Accuracy=0.6849, AUC=0.6805, Demographic Parity Diff=0.4444\n"
     ]
    },
    {
     "name": "stderr",
     "output_type": "stream",
     "text": [
      "/opt/conda/lib/python3.11/site-packages/sklearn/utils/validation.py:1300: DataConversionWarning: A column-vector y was passed when a 1d array was expected. Please change the shape of y to (n_samples, ), for example using ravel().\n",
      "  y = column_or_1d(y, warn=True)\n"
     ]
    },
    {
     "name": "stdout",
     "output_type": "stream",
     "text": [
      "  Fold 3: Score=0.2763, Accuracy=0.4651, AUC=0.4677, Demographic Parity Diff=0.6565\n",
      "  Final (Avg) for lambda_adv=1.0, epochs=32, batch_size=128: Score=0.7679, Accuracy=0.6287, AUC=0.6279, Demographic Parity Diff=0.4887\n",
      "\n",
      "Testing lambda_adv=1.0, epochs=32, batch_size=256\n"
     ]
    },
    {
     "name": "stderr",
     "output_type": "stream",
     "text": [
      "/opt/conda/lib/python3.11/site-packages/sklearn/utils/validation.py:1300: DataConversionWarning: A column-vector y was passed when a 1d array was expected. Please change the shape of y to (n_samples, ), for example using ravel().\n",
      "  y = column_or_1d(y, warn=True)\n"
     ]
    },
    {
     "name": "stdout",
     "output_type": "stream",
     "text": [
      "  Fold 1: Score=1.1507, Accuracy=0.6507, AUC=0.6480, Demographic Parity Diff=0.1480\n"
     ]
    },
    {
     "name": "stderr",
     "output_type": "stream",
     "text": [
      "/opt/conda/lib/python3.11/site-packages/sklearn/utils/validation.py:1300: DataConversionWarning: A column-vector y was passed when a 1d array was expected. Please change the shape of y to (n_samples, ), for example using ravel().\n",
      "  y = column_or_1d(y, warn=True)\n"
     ]
    },
    {
     "name": "stdout",
     "output_type": "stream",
     "text": [
      "  Fold 2: Score=0.4333, Accuracy=0.4816, AUC=0.4833, Demographic Parity Diff=0.5316\n"
     ]
    },
    {
     "name": "stderr",
     "output_type": "stream",
     "text": [
      "/opt/conda/lib/python3.11/site-packages/sklearn/utils/validation.py:1300: DataConversionWarning: A column-vector y was passed when a 1d array was expected. Please change the shape of y to (n_samples, ), for example using ravel().\n",
      "  y = column_or_1d(y, warn=True)\n"
     ]
    },
    {
     "name": "stdout",
     "output_type": "stream",
     "text": [
      "  Fold 3: Score=0.9776, Accuracy=0.7112, AUC=0.7120, Demographic Parity Diff=0.4456\n",
      "  Final (Avg) for lambda_adv=1.0, epochs=32, batch_size=256: Score=0.8539, Accuracy=0.6145, AUC=0.6145, Demographic Parity Diff=0.3751\n",
      "\n",
      "Testing lambda_adv=1.0, epochs=64, batch_size=64\n"
     ]
    },
    {
     "name": "stderr",
     "output_type": "stream",
     "text": [
      "/opt/conda/lib/python3.11/site-packages/sklearn/utils/validation.py:1300: DataConversionWarning: A column-vector y was passed when a 1d array was expected. Please change the shape of y to (n_samples, ), for example using ravel().\n",
      "  y = column_or_1d(y, warn=True)\n"
     ]
    },
    {
     "name": "stdout",
     "output_type": "stream",
     "text": [
      "  Fold 1: Score=1.3296, Accuracy=0.7789, AUC=0.7789, Demographic Parity Diff=0.2281\n"
     ]
    },
    {
     "name": "stderr",
     "output_type": "stream",
     "text": [
      "/opt/conda/lib/python3.11/site-packages/sklearn/utils/validation.py:1300: DataConversionWarning: A column-vector y was passed when a 1d array was expected. Please change the shape of y to (n_samples, ), for example using ravel().\n",
      "  y = column_or_1d(y, warn=True)\n"
     ]
    },
    {
     "name": "stdout",
     "output_type": "stream",
     "text": [
      "  Fold 2: Score=1.3166, Accuracy=0.7569, AUC=0.7571, Demographic Parity Diff=0.1974\n"
     ]
    },
    {
     "name": "stderr",
     "output_type": "stream",
     "text": [
      "/opt/conda/lib/python3.11/site-packages/sklearn/utils/validation.py:1300: DataConversionWarning: A column-vector y was passed when a 1d array was expected. Please change the shape of y to (n_samples, ), for example using ravel().\n",
      "  y = column_or_1d(y, warn=True)\n"
     ]
    },
    {
     "name": "stdout",
     "output_type": "stream",
     "text": [
      "  Fold 3: Score=1.2977, Accuracy=0.7727, AUC=0.7725, Demographic Parity Diff=0.2475\n",
      "  Final (Avg) for lambda_adv=1.0, epochs=64, batch_size=64: Score=1.3146, Accuracy=0.7695, AUC=0.7695, Demographic Parity Diff=0.2243\n",
      "\n",
      "Testing lambda_adv=1.0, epochs=64, batch_size=128\n"
     ]
    },
    {
     "name": "stderr",
     "output_type": "stream",
     "text": [
      "/opt/conda/lib/python3.11/site-packages/sklearn/utils/validation.py:1300: DataConversionWarning: A column-vector y was passed when a 1d array was expected. Please change the shape of y to (n_samples, ), for example using ravel().\n",
      "  y = column_or_1d(y, warn=True)\n"
     ]
    },
    {
     "name": "stdout",
     "output_type": "stream",
     "text": [
      "  Fold 1: Score=1.2037, Accuracy=0.7616, AUC=0.7616, Demographic Parity Diff=0.3196\n"
     ]
    },
    {
     "name": "stderr",
     "output_type": "stream",
     "text": [
      "/opt/conda/lib/python3.11/site-packages/sklearn/utils/validation.py:1300: DataConversionWarning: A column-vector y was passed when a 1d array was expected. Please change the shape of y to (n_samples, ), for example using ravel().\n",
      "  y = column_or_1d(y, warn=True)\n"
     ]
    },
    {
     "name": "stdout",
     "output_type": "stream",
     "text": [
      "  Fold 2: Score=1.2938, Accuracy=0.7419, AUC=0.7406, Demographic Parity Diff=0.1888\n"
     ]
    },
    {
     "name": "stderr",
     "output_type": "stream",
     "text": [
      "/opt/conda/lib/python3.11/site-packages/sklearn/utils/validation.py:1300: DataConversionWarning: A column-vector y was passed when a 1d array was expected. Please change the shape of y to (n_samples, ), for example using ravel().\n",
      "  y = column_or_1d(y, warn=True)\n"
     ]
    },
    {
     "name": "stdout",
     "output_type": "stream",
     "text": [
      "  Fold 3: Score=1.2914, Accuracy=0.7689, AUC=0.7684, Demographic Parity Diff=0.2460\n",
      "  Final (Avg) for lambda_adv=1.0, epochs=64, batch_size=128: Score=1.2630, Accuracy=0.7575, AUC=0.7569, Demographic Parity Diff=0.2515\n",
      "\n",
      "Testing lambda_adv=1.0, epochs=64, batch_size=256\n"
     ]
    },
    {
     "name": "stderr",
     "output_type": "stream",
     "text": [
      "/opt/conda/lib/python3.11/site-packages/sklearn/utils/validation.py:1300: DataConversionWarning: A column-vector y was passed when a 1d array was expected. Please change the shape of y to (n_samples, ), for example using ravel().\n",
      "  y = column_or_1d(y, warn=True)\n"
     ]
    },
    {
     "name": "stdout",
     "output_type": "stream",
     "text": [
      "  Fold 1: Score=1.1682, Accuracy=0.7384, AUC=0.7386, Demographic Parity Diff=0.3088\n"
     ]
    },
    {
     "name": "stderr",
     "output_type": "stream",
     "text": [
      "/opt/conda/lib/python3.11/site-packages/sklearn/utils/validation.py:1300: DataConversionWarning: A column-vector y was passed when a 1d array was expected. Please change the shape of y to (n_samples, ), for example using ravel().\n",
      "  y = column_or_1d(y, warn=True)\n"
     ]
    },
    {
     "name": "stdout",
     "output_type": "stream",
     "text": [
      "  Fold 2: Score=1.2460, Accuracy=0.7404, AUC=0.7397, Demographic Parity Diff=0.2341\n"
     ]
    },
    {
     "name": "stderr",
     "output_type": "stream",
     "text": [
      "/opt/conda/lib/python3.11/site-packages/sklearn/utils/validation.py:1300: DataConversionWarning: A column-vector y was passed when a 1d array was expected. Please change the shape of y to (n_samples, ), for example using ravel().\n",
      "  y = column_or_1d(y, warn=True)\n"
     ]
    },
    {
     "name": "stdout",
     "output_type": "stream",
     "text": [
      "  Fold 3: Score=1.1749, Accuracy=0.7502, AUC=0.7487, Demographic Parity Diff=0.3241\n",
      "  Final (Avg) for lambda_adv=1.0, epochs=64, batch_size=256: Score=1.1964, Accuracy=0.7430, AUC=0.7424, Demographic Parity Diff=0.2890\n",
      "\n",
      "Testing lambda_adv=1.0, epochs=128, batch_size=64\n"
     ]
    },
    {
     "name": "stderr",
     "output_type": "stream",
     "text": [
      "/opt/conda/lib/python3.11/site-packages/sklearn/utils/validation.py:1300: DataConversionWarning: A column-vector y was passed when a 1d array was expected. Please change the shape of y to (n_samples, ), for example using ravel().\n",
      "  y = column_or_1d(y, warn=True)\n"
     ]
    },
    {
     "name": "stdout",
     "output_type": "stream",
     "text": [
      "  Fold 1: Score=1.3258, Accuracy=0.7646, AUC=0.7644, Demographic Parity Diff=0.2032\n"
     ]
    },
    {
     "name": "stderr",
     "output_type": "stream",
     "text": [
      "/opt/conda/lib/python3.11/site-packages/sklearn/utils/validation.py:1300: DataConversionWarning: A column-vector y was passed when a 1d array was expected. Please change the shape of y to (n_samples, ), for example using ravel().\n",
      "  y = column_or_1d(y, warn=True)\n"
     ]
    },
    {
     "name": "stdout",
     "output_type": "stream",
     "text": [
      "  Fold 2: Score=1.3196, Accuracy=0.7532, AUC=0.7529, Demographic Parity Diff=0.1865\n"
     ]
    },
    {
     "name": "stderr",
     "output_type": "stream",
     "text": [
      "/opt/conda/lib/python3.11/site-packages/sklearn/utils/validation.py:1300: DataConversionWarning: A column-vector y was passed when a 1d array was expected. Please change the shape of y to (n_samples, ), for example using ravel().\n",
      "  y = column_or_1d(y, warn=True)\n"
     ]
    },
    {
     "name": "stdout",
     "output_type": "stream",
     "text": [
      "  Fold 3: Score=1.2971, Accuracy=0.7599, AUC=0.7595, Demographic Parity Diff=0.2223\n",
      "  Final (Avg) for lambda_adv=1.0, epochs=128, batch_size=64: Score=1.3142, Accuracy=0.7592, AUC=0.7589, Demographic Parity Diff=0.2040\n",
      "\n",
      "Testing lambda_adv=1.0, epochs=128, batch_size=128\n"
     ]
    },
    {
     "name": "stderr",
     "output_type": "stream",
     "text": [
      "/opt/conda/lib/python3.11/site-packages/sklearn/utils/validation.py:1300: DataConversionWarning: A column-vector y was passed when a 1d array was expected. Please change the shape of y to (n_samples, ), for example using ravel().\n",
      "  y = column_or_1d(y, warn=True)\n"
     ]
    },
    {
     "name": "stdout",
     "output_type": "stream",
     "text": [
      "  Fold 1: Score=1.3242, Accuracy=0.7751, AUC=0.7748, Demographic Parity Diff=0.2257\n"
     ]
    },
    {
     "name": "stderr",
     "output_type": "stream",
     "text": [
      "/opt/conda/lib/python3.11/site-packages/sklearn/utils/validation.py:1300: DataConversionWarning: A column-vector y was passed when a 1d array was expected. Please change the shape of y to (n_samples, ), for example using ravel().\n",
      "  y = column_or_1d(y, warn=True)\n"
     ]
    },
    {
     "name": "stdout",
     "output_type": "stream",
     "text": [
      "  Fold 2: Score=1.3721, Accuracy=0.7682, AUC=0.7680, Demographic Parity Diff=0.1641\n"
     ]
    },
    {
     "name": "stderr",
     "output_type": "stream",
     "text": [
      "/opt/conda/lib/python3.11/site-packages/sklearn/utils/validation.py:1300: DataConversionWarning: A column-vector y was passed when a 1d array was expected. Please change the shape of y to (n_samples, ), for example using ravel().\n",
      "  y = column_or_1d(y, warn=True)\n"
     ]
    },
    {
     "name": "stdout",
     "output_type": "stream",
     "text": [
      "  Fold 3: Score=1.2684, Accuracy=0.7569, AUC=0.7568, Demographic Parity Diff=0.2453\n",
      "  Final (Avg) for lambda_adv=1.0, epochs=128, batch_size=128: Score=1.3216, Accuracy=0.7667, AUC=0.7665, Demographic Parity Diff=0.2117\n",
      "\n",
      "Testing lambda_adv=1.0, epochs=128, batch_size=256\n"
     ]
    },
    {
     "name": "stderr",
     "output_type": "stream",
     "text": [
      "/opt/conda/lib/python3.11/site-packages/sklearn/utils/validation.py:1300: DataConversionWarning: A column-vector y was passed when a 1d array was expected. Please change the shape of y to (n_samples, ), for example using ravel().\n",
      "  y = column_or_1d(y, warn=True)\n"
     ]
    },
    {
     "name": "stdout",
     "output_type": "stream",
     "text": [
      "  Fold 1: Score=1.2998, Accuracy=0.7699, AUC=0.7700, Demographic Parity Diff=0.2400\n"
     ]
    },
    {
     "name": "stderr",
     "output_type": "stream",
     "text": [
      "/opt/conda/lib/python3.11/site-packages/sklearn/utils/validation.py:1300: DataConversionWarning: A column-vector y was passed when a 1d array was expected. Please change the shape of y to (n_samples, ), for example using ravel().\n",
      "  y = column_or_1d(y, warn=True)\n"
     ]
    },
    {
     "name": "stdout",
     "output_type": "stream",
     "text": [
      "  Fold 2: Score=1.3405, Accuracy=0.7584, AUC=0.7578, Demographic Parity Diff=0.1757\n"
     ]
    },
    {
     "name": "stderr",
     "output_type": "stream",
     "text": [
      "/opt/conda/lib/python3.11/site-packages/sklearn/utils/validation.py:1300: DataConversionWarning: A column-vector y was passed when a 1d array was expected. Please change the shape of y to (n_samples, ), for example using ravel().\n",
      "  y = column_or_1d(y, warn=True)\n"
     ]
    },
    {
     "name": "stdout",
     "output_type": "stream",
     "text": [
      "  Fold 3: Score=1.3330, Accuracy=0.7599, AUC=0.7591, Demographic Parity Diff=0.1860\n",
      "  Final (Avg) for lambda_adv=1.0, epochs=128, batch_size=256: Score=1.3245, Accuracy=0.7627, AUC=0.7623, Demographic Parity Diff=0.2006\n",
      "\n",
      "Testing lambda_adv=3.0, epochs=32, batch_size=64\n"
     ]
    },
    {
     "name": "stderr",
     "output_type": "stream",
     "text": [
      "/opt/conda/lib/python3.11/site-packages/sklearn/utils/validation.py:1300: DataConversionWarning: A column-vector y was passed when a 1d array was expected. Please change the shape of y to (n_samples, ), for example using ravel().\n",
      "  y = column_or_1d(y, warn=True)\n"
     ]
    },
    {
     "name": "stdout",
     "output_type": "stream",
     "text": [
      "  Fold 1: Score=0.9216, Accuracy=0.7009, AUC=0.6976, Demographic Parity Diff=0.4768\n"
     ]
    },
    {
     "name": "stderr",
     "output_type": "stream",
     "text": [
      "/opt/conda/lib/python3.11/site-packages/sklearn/utils/validation.py:1300: DataConversionWarning: A column-vector y was passed when a 1d array was expected. Please change the shape of y to (n_samples, ), for example using ravel().\n",
      "  y = column_or_1d(y, warn=True)\n"
     ]
    },
    {
     "name": "stdout",
     "output_type": "stream",
     "text": [
      "  Fold 2: Score=0.6944, Accuracy=0.6407, AUC=0.6373, Demographic Parity Diff=0.5835\n"
     ]
    },
    {
     "name": "stderr",
     "output_type": "stream",
     "text": [
      "/opt/conda/lib/python3.11/site-packages/sklearn/utils/validation.py:1300: DataConversionWarning: A column-vector y was passed when a 1d array was expected. Please change the shape of y to (n_samples, ), for example using ravel().\n",
      "  y = column_or_1d(y, warn=True)\n"
     ]
    },
    {
     "name": "stdout",
     "output_type": "stream",
     "text": [
      "  Fold 3: Score=0.9073, Accuracy=0.6999, AUC=0.6969, Demographic Parity Diff=0.4895\n",
      "  Final (Avg) for lambda_adv=3.0, epochs=32, batch_size=64: Score=0.8411, Accuracy=0.6805, AUC=0.6772, Demographic Parity Diff=0.5166\n",
      "\n",
      "Testing lambda_adv=3.0, epochs=32, batch_size=128\n"
     ]
    },
    {
     "name": "stderr",
     "output_type": "stream",
     "text": [
      "/opt/conda/lib/python3.11/site-packages/sklearn/utils/validation.py:1300: DataConversionWarning: A column-vector y was passed when a 1d array was expected. Please change the shape of y to (n_samples, ), for example using ravel().\n",
      "  y = column_or_1d(y, warn=True)\n"
     ]
    },
    {
     "name": "stdout",
     "output_type": "stream",
     "text": [
      "  Fold 1: Score=1.3838, Accuracy=0.6957, AUC=0.6967, Demographic Parity Diff=0.0085\n"
     ]
    },
    {
     "name": "stderr",
     "output_type": "stream",
     "text": [
      "/opt/conda/lib/python3.11/site-packages/sklearn/utils/validation.py:1300: DataConversionWarning: A column-vector y was passed when a 1d array was expected. Please change the shape of y to (n_samples, ), for example using ravel().\n",
      "  y = column_or_1d(y, warn=True)\n"
     ]
    },
    {
     "name": "stdout",
     "output_type": "stream",
     "text": [
      "  Fold 2: Score=0.4477, Accuracy=0.6482, AUC=0.6482, Demographic Parity Diff=0.8486\n"
     ]
    },
    {
     "name": "stderr",
     "output_type": "stream",
     "text": [
      "/opt/conda/lib/python3.11/site-packages/sklearn/utils/validation.py:1300: DataConversionWarning: A column-vector y was passed when a 1d array was expected. Please change the shape of y to (n_samples, ), for example using ravel().\n",
      "  y = column_or_1d(y, warn=True)\n"
     ]
    },
    {
     "name": "stdout",
     "output_type": "stream",
     "text": [
      "  Fold 3: Score=0.8485, Accuracy=0.6534, AUC=0.6520, Demographic Parity Diff=0.4569\n",
      "  Final (Avg) for lambda_adv=3.0, epochs=32, batch_size=128: Score=0.8933, Accuracy=0.6657, AUC=0.6656, Demographic Parity Diff=0.4380\n",
      "\n",
      "Testing lambda_adv=3.0, epochs=32, batch_size=256\n"
     ]
    },
    {
     "name": "stderr",
     "output_type": "stream",
     "text": [
      "/opt/conda/lib/python3.11/site-packages/sklearn/utils/validation.py:1300: DataConversionWarning: A column-vector y was passed when a 1d array was expected. Please change the shape of y to (n_samples, ), for example using ravel().\n",
      "  y = column_or_1d(y, warn=True)\n"
     ]
    },
    {
     "name": "stdout",
     "output_type": "stream",
     "text": [
      "  Fold 1: Score=0.4637, Accuracy=0.5540, AUC=0.5516, Demographic Parity Diff=0.6419\n"
     ]
    },
    {
     "name": "stderr",
     "output_type": "stream",
     "text": [
      "/opt/conda/lib/python3.11/site-packages/sklearn/utils/validation.py:1300: DataConversionWarning: A column-vector y was passed when a 1d array was expected. Please change the shape of y to (n_samples, ), for example using ravel().\n",
      "  y = column_or_1d(y, warn=True)\n"
     ]
    },
    {
     "name": "stdout",
     "output_type": "stream",
     "text": [
      "  Fold 2: Score=0.4477, Accuracy=0.6482, AUC=0.6482, Demographic Parity Diff=0.8486\n"
     ]
    },
    {
     "name": "stderr",
     "output_type": "stream",
     "text": [
      "/opt/conda/lib/python3.11/site-packages/sklearn/utils/validation.py:1300: DataConversionWarning: A column-vector y was passed when a 1d array was expected. Please change the shape of y to (n_samples, ), for example using ravel().\n",
      "  y = column_or_1d(y, warn=True)\n"
     ]
    },
    {
     "name": "stdout",
     "output_type": "stream",
     "text": [
      "  Fold 3: Score=0.3826, Accuracy=0.5521, AUC=0.5522, Demographic Parity Diff=0.7217\n",
      "  Final (Avg) for lambda_adv=3.0, epochs=32, batch_size=256: Score=0.4314, Accuracy=0.5848, AUC=0.5840, Demographic Parity Diff=0.7374\n",
      "\n",
      "Testing lambda_adv=3.0, epochs=64, batch_size=64\n"
     ]
    },
    {
     "name": "stderr",
     "output_type": "stream",
     "text": [
      "/opt/conda/lib/python3.11/site-packages/sklearn/utils/validation.py:1300: DataConversionWarning: A column-vector y was passed when a 1d array was expected. Please change the shape of y to (n_samples, ), for example using ravel().\n",
      "  y = column_or_1d(y, warn=True)\n"
     ]
    },
    {
     "name": "stdout",
     "output_type": "stream",
     "text": [
      "  Fold 1: Score=1.2793, Accuracy=0.7504, AUC=0.7506, Demographic Parity Diff=0.2216\n"
     ]
    },
    {
     "name": "stderr",
     "output_type": "stream",
     "text": [
      "/opt/conda/lib/python3.11/site-packages/sklearn/utils/validation.py:1300: DataConversionWarning: A column-vector y was passed when a 1d array was expected. Please change the shape of y to (n_samples, ), for example using ravel().\n",
      "  y = column_or_1d(y, warn=True)\n"
     ]
    },
    {
     "name": "stdout",
     "output_type": "stream",
     "text": [
      "  Fold 2: Score=1.4097, Accuracy=0.7577, AUC=0.7581, Demographic Parity Diff=0.1061\n"
     ]
    },
    {
     "name": "stderr",
     "output_type": "stream",
     "text": [
      "/opt/conda/lib/python3.11/site-packages/sklearn/utils/validation.py:1300: DataConversionWarning: A column-vector y was passed when a 1d array was expected. Please change the shape of y to (n_samples, ), for example using ravel().\n",
      "  y = column_or_1d(y, warn=True)\n"
     ]
    },
    {
     "name": "stdout",
     "output_type": "stream",
     "text": [
      "  Fold 3: Score=1.2443, Accuracy=0.7412, AUC=0.7412, Demographic Parity Diff=0.2380\n",
      "  Final (Avg) for lambda_adv=3.0, epochs=64, batch_size=64: Score=1.3111, Accuracy=0.7497, AUC=0.7499, Demographic Parity Diff=0.1886\n",
      "\n",
      "Testing lambda_adv=3.0, epochs=64, batch_size=128\n"
     ]
    },
    {
     "name": "stderr",
     "output_type": "stream",
     "text": [
      "/opt/conda/lib/python3.11/site-packages/sklearn/utils/validation.py:1300: DataConversionWarning: A column-vector y was passed when a 1d array was expected. Please change the shape of y to (n_samples, ), for example using ravel().\n",
      "  y = column_or_1d(y, warn=True)\n"
     ]
    },
    {
     "name": "stdout",
     "output_type": "stream",
     "text": [
      "  Fold 1: Score=1.3329, Accuracy=0.7729, AUC=0.7725, Demographic Parity Diff=0.2124\n"
     ]
    },
    {
     "name": "stderr",
     "output_type": "stream",
     "text": [
      "/opt/conda/lib/python3.11/site-packages/sklearn/utils/validation.py:1300: DataConversionWarning: A column-vector y was passed when a 1d array was expected. Please change the shape of y to (n_samples, ), for example using ravel().\n",
      "  y = column_or_1d(y, warn=True)\n"
     ]
    },
    {
     "name": "stdout",
     "output_type": "stream",
     "text": [
      "  Fold 2: Score=1.2385, Accuracy=0.7082, AUC=0.7077, Demographic Parity Diff=0.1774\n"
     ]
    },
    {
     "name": "stderr",
     "output_type": "stream",
     "text": [
      "/opt/conda/lib/python3.11/site-packages/sklearn/utils/validation.py:1300: DataConversionWarning: A column-vector y was passed when a 1d array was expected. Please change the shape of y to (n_samples, ), for example using ravel().\n",
      "  y = column_or_1d(y, warn=True)\n"
     ]
    },
    {
     "name": "stdout",
     "output_type": "stream",
     "text": [
      "  Fold 3: Score=1.2781, Accuracy=0.7539, AUC=0.7539, Demographic Parity Diff=0.2297\n",
      "  Final (Avg) for lambda_adv=3.0, epochs=64, batch_size=128: Score=1.2832, Accuracy=0.7450, AUC=0.7447, Demographic Parity Diff=0.2065\n",
      "\n",
      "Testing lambda_adv=3.0, epochs=64, batch_size=256\n"
     ]
    },
    {
     "name": "stderr",
     "output_type": "stream",
     "text": [
      "/opt/conda/lib/python3.11/site-packages/sklearn/utils/validation.py:1300: DataConversionWarning: A column-vector y was passed when a 1d array was expected. Please change the shape of y to (n_samples, ), for example using ravel().\n",
      "  y = column_or_1d(y, warn=True)\n"
     ]
    },
    {
     "name": "stdout",
     "output_type": "stream",
     "text": [
      "  Fold 1: Score=0.4364, Accuracy=0.6289, AUC=0.6291, Demographic Parity Diff=0.8216\n"
     ]
    },
    {
     "name": "stderr",
     "output_type": "stream",
     "text": [
      "/opt/conda/lib/python3.11/site-packages/sklearn/utils/validation.py:1300: DataConversionWarning: A column-vector y was passed when a 1d array was expected. Please change the shape of y to (n_samples, ), for example using ravel().\n",
      "  y = column_or_1d(y, warn=True)\n"
     ]
    },
    {
     "name": "stdout",
     "output_type": "stream",
     "text": [
      "  Fold 2: Score=0.4477, Accuracy=0.6482, AUC=0.6482, Demographic Parity Diff=0.8486\n"
     ]
    },
    {
     "name": "stderr",
     "output_type": "stream",
     "text": [
      "/opt/conda/lib/python3.11/site-packages/sklearn/utils/validation.py:1300: DataConversionWarning: A column-vector y was passed when a 1d array was expected. Please change the shape of y to (n_samples, ), for example using ravel().\n",
      "  y = column_or_1d(y, warn=True)\n"
     ]
    },
    {
     "name": "stdout",
     "output_type": "stream",
     "text": [
      "  Fold 3: Score=0.9321, Accuracy=0.6842, AUC=0.6865, Demographic Parity Diff=0.4385\n",
      "  Final (Avg) for lambda_adv=3.0, epochs=64, batch_size=256: Score=0.6054, Accuracy=0.6538, AUC=0.6546, Demographic Parity Diff=0.7029\n",
      "\n",
      "Testing lambda_adv=3.0, epochs=128, batch_size=64\n"
     ]
    },
    {
     "name": "stderr",
     "output_type": "stream",
     "text": [
      "/opt/conda/lib/python3.11/site-packages/sklearn/utils/validation.py:1300: DataConversionWarning: A column-vector y was passed when a 1d array was expected. Please change the shape of y to (n_samples, ), for example using ravel().\n",
      "  y = column_or_1d(y, warn=True)\n"
     ]
    },
    {
     "name": "stdout",
     "output_type": "stream",
     "text": [
      "  Fold 1: Score=1.3346, Accuracy=0.7721, AUC=0.7723, Demographic Parity Diff=0.2098\n"
     ]
    },
    {
     "name": "stderr",
     "output_type": "stream",
     "text": [
      "/opt/conda/lib/python3.11/site-packages/sklearn/utils/validation.py:1300: DataConversionWarning: A column-vector y was passed when a 1d array was expected. Please change the shape of y to (n_samples, ), for example using ravel().\n",
      "  y = column_or_1d(y, warn=True)\n"
     ]
    },
    {
     "name": "stdout",
     "output_type": "stream",
     "text": [
      "  Fold 2: Score=1.3916, Accuracy=0.7689, AUC=0.7687, Demographic Parity Diff=0.1461\n"
     ]
    },
    {
     "name": "stderr",
     "output_type": "stream",
     "text": [
      "/opt/conda/lib/python3.11/site-packages/sklearn/utils/validation.py:1300: DataConversionWarning: A column-vector y was passed when a 1d array was expected. Please change the shape of y to (n_samples, ), for example using ravel().\n",
      "  y = column_or_1d(y, warn=True)\n"
     ]
    },
    {
     "name": "stdout",
     "output_type": "stream",
     "text": [
      "  Fold 3: Score=1.2764, Accuracy=0.7464, AUC=0.7460, Demographic Parity Diff=0.2160\n",
      "  Final (Avg) for lambda_adv=3.0, epochs=128, batch_size=64: Score=1.3342, Accuracy=0.7625, AUC=0.7623, Demographic Parity Diff=0.1907\n",
      "\n",
      "Testing lambda_adv=3.0, epochs=128, batch_size=128\n"
     ]
    },
    {
     "name": "stderr",
     "output_type": "stream",
     "text": [
      "/opt/conda/lib/python3.11/site-packages/sklearn/utils/validation.py:1300: DataConversionWarning: A column-vector y was passed when a 1d array was expected. Please change the shape of y to (n_samples, ), for example using ravel().\n",
      "  y = column_or_1d(y, warn=True)\n"
     ]
    },
    {
     "name": "stdout",
     "output_type": "stream",
     "text": [
      "  Fold 1: Score=1.3359, Accuracy=0.7676, AUC=0.7677, Demographic Parity Diff=0.1994\n"
     ]
    },
    {
     "name": "stderr",
     "output_type": "stream",
     "text": [
      "/opt/conda/lib/python3.11/site-packages/sklearn/utils/validation.py:1300: DataConversionWarning: A column-vector y was passed when a 1d array was expected. Please change the shape of y to (n_samples, ), for example using ravel().\n",
      "  y = column_or_1d(y, warn=True)\n"
     ]
    },
    {
     "name": "stdout",
     "output_type": "stream",
     "text": [
      "  Fold 2: Score=1.3406, Accuracy=0.7637, AUC=0.7633, Demographic Parity Diff=0.1864\n"
     ]
    },
    {
     "name": "stderr",
     "output_type": "stream",
     "text": [
      "/opt/conda/lib/python3.11/site-packages/sklearn/utils/validation.py:1300: DataConversionWarning: A column-vector y was passed when a 1d array was expected. Please change the shape of y to (n_samples, ), for example using ravel().\n",
      "  y = column_or_1d(y, warn=True)\n"
     ]
    },
    {
     "name": "stdout",
     "output_type": "stream",
     "text": [
      "  Fold 3: Score=1.3692, Accuracy=0.7697, AUC=0.7701, Demographic Parity Diff=0.1706\n",
      "  Final (Avg) for lambda_adv=3.0, epochs=128, batch_size=128: Score=1.3486, Accuracy=0.7670, AUC=0.7670, Demographic Parity Diff=0.1855\n",
      "\n",
      "Testing lambda_adv=3.0, epochs=128, batch_size=256\n"
     ]
    },
    {
     "name": "stderr",
     "output_type": "stream",
     "text": [
      "/opt/conda/lib/python3.11/site-packages/sklearn/utils/validation.py:1300: DataConversionWarning: A column-vector y was passed when a 1d array was expected. Please change the shape of y to (n_samples, ), for example using ravel().\n",
      "  y = column_or_1d(y, warn=True)\n"
     ]
    },
    {
     "name": "stdout",
     "output_type": "stream",
     "text": [
      "  Fold 1: Score=1.1720, Accuracy=0.7534, AUC=0.7527, Demographic Parity Diff=0.3341\n"
     ]
    },
    {
     "name": "stderr",
     "output_type": "stream",
     "text": [
      "/opt/conda/lib/python3.11/site-packages/sklearn/utils/validation.py:1300: DataConversionWarning: A column-vector y was passed when a 1d array was expected. Please change the shape of y to (n_samples, ), for example using ravel().\n",
      "  y = column_or_1d(y, warn=True)\n"
     ]
    },
    {
     "name": "stdout",
     "output_type": "stream",
     "text": [
      "  Fold 2: Score=1.2505, Accuracy=0.7262, AUC=0.7252, Demographic Parity Diff=0.2009\n"
     ]
    },
    {
     "name": "stderr",
     "output_type": "stream",
     "text": [
      "/opt/conda/lib/python3.11/site-packages/sklearn/utils/validation.py:1300: DataConversionWarning: A column-vector y was passed when a 1d array was expected. Please change the shape of y to (n_samples, ), for example using ravel().\n",
      "  y = column_or_1d(y, warn=True)\n"
     ]
    },
    {
     "name": "stdout",
     "output_type": "stream",
     "text": [
      "  Fold 3: Score=1.3695, Accuracy=0.7712, AUC=0.7718, Demographic Parity Diff=0.1736\n",
      "  Final (Avg) for lambda_adv=3.0, epochs=128, batch_size=256: Score=1.2640, Accuracy=0.7502, AUC=0.7499, Demographic Parity Diff=0.2362\n",
      "\n",
      "Testing lambda_adv=5.0, epochs=32, batch_size=64\n"
     ]
    },
    {
     "name": "stderr",
     "output_type": "stream",
     "text": [
      "/opt/conda/lib/python3.11/site-packages/sklearn/utils/validation.py:1300: DataConversionWarning: A column-vector y was passed when a 1d array was expected. Please change the shape of y to (n_samples, ), for example using ravel().\n",
      "  y = column_or_1d(y, warn=True)\n"
     ]
    },
    {
     "name": "stdout",
     "output_type": "stream",
     "text": [
      "  Fold 1: Score=0.4304, Accuracy=0.6274, AUC=0.6276, Demographic Parity Diff=0.8246\n"
     ]
    },
    {
     "name": "stderr",
     "output_type": "stream",
     "text": [
      "/opt/conda/lib/python3.11/site-packages/sklearn/utils/validation.py:1300: DataConversionWarning: A column-vector y was passed when a 1d array was expected. Please change the shape of y to (n_samples, ), for example using ravel().\n",
      "  y = column_or_1d(y, warn=True)\n"
     ]
    },
    {
     "name": "stdout",
     "output_type": "stream",
     "text": [
      "  Fold 2: Score=0.7234, Accuracy=0.6684, AUC=0.6660, Demographic Parity Diff=0.6111\n"
     ]
    },
    {
     "name": "stderr",
     "output_type": "stream",
     "text": [
      "/opt/conda/lib/python3.11/site-packages/sklearn/utils/validation.py:1300: DataConversionWarning: A column-vector y was passed when a 1d array was expected. Please change the shape of y to (n_samples, ), for example using ravel().\n",
      "  y = column_or_1d(y, warn=True)\n"
     ]
    },
    {
     "name": "stdout",
     "output_type": "stream",
     "text": [
      "  Fold 3: Score=1.0952, Accuracy=0.7179, AUC=0.7170, Demographic Parity Diff=0.3397\n",
      "  Final (Avg) for lambda_adv=5.0, epochs=32, batch_size=64: Score=0.7497, Accuracy=0.6713, AUC=0.6702, Demographic Parity Diff=0.5918\n",
      "\n",
      "Testing lambda_adv=5.0, epochs=32, batch_size=128\n"
     ]
    },
    {
     "name": "stderr",
     "output_type": "stream",
     "text": [
      "/opt/conda/lib/python3.11/site-packages/sklearn/utils/validation.py:1300: DataConversionWarning: A column-vector y was passed when a 1d array was expected. Please change the shape of y to (n_samples, ), for example using ravel().\n",
      "  y = column_or_1d(y, warn=True)\n"
     ]
    },
    {
     "name": "stdout",
     "output_type": "stream",
     "text": [
      "  Fold 1: Score=0.4364, Accuracy=0.6289, AUC=0.6291, Demographic Parity Diff=0.8216\n"
     ]
    },
    {
     "name": "stderr",
     "output_type": "stream",
     "text": [
      "/opt/conda/lib/python3.11/site-packages/sklearn/utils/validation.py:1300: DataConversionWarning: A column-vector y was passed when a 1d array was expected. Please change the shape of y to (n_samples, ), for example using ravel().\n",
      "  y = column_or_1d(y, warn=True)\n"
     ]
    },
    {
     "name": "stdout",
     "output_type": "stream",
     "text": [
      "  Fold 2: Score=0.7119, Accuracy=0.6339, AUC=0.6328, Demographic Parity Diff=0.5549\n"
     ]
    },
    {
     "name": "stderr",
     "output_type": "stream",
     "text": [
      "/opt/conda/lib/python3.11/site-packages/sklearn/utils/validation.py:1300: DataConversionWarning: A column-vector y was passed when a 1d array was expected. Please change the shape of y to (n_samples, ), for example using ravel().\n",
      "  y = column_or_1d(y, warn=True)\n"
     ]
    },
    {
     "name": "stdout",
     "output_type": "stream",
     "text": [
      "  Fold 3: Score=0.1024, Accuracy=0.4029, AUC=0.4005, Demographic Parity Diff=0.7009\n",
      "  Final (Avg) for lambda_adv=5.0, epochs=32, batch_size=128: Score=0.4169, Accuracy=0.5552, AUC=0.5542, Demographic Parity Diff=0.6925\n",
      "\n",
      "Testing lambda_adv=5.0, epochs=32, batch_size=256\n"
     ]
    },
    {
     "name": "stderr",
     "output_type": "stream",
     "text": [
      "/opt/conda/lib/python3.11/site-packages/sklearn/utils/validation.py:1300: DataConversionWarning: A column-vector y was passed when a 1d array was expected. Please change the shape of y to (n_samples, ), for example using ravel().\n",
      "  y = column_or_1d(y, warn=True)\n"
     ]
    },
    {
     "name": "stdout",
     "output_type": "stream",
     "text": [
      "  Fold 1: Score=0.8016, Accuracy=0.6312, AUC=0.6315, Demographic Parity Diff=0.4611\n"
     ]
    },
    {
     "name": "stderr",
     "output_type": "stream",
     "text": [
      "/opt/conda/lib/python3.11/site-packages/sklearn/utils/validation.py:1300: DataConversionWarning: A column-vector y was passed when a 1d array was expected. Please change the shape of y to (n_samples, ), for example using ravel().\n",
      "  y = column_or_1d(y, warn=True)\n"
     ]
    },
    {
     "name": "stdout",
     "output_type": "stream",
     "text": [
      "  Fold 2: Score=0.7686, Accuracy=0.6234, AUC=0.6200, Demographic Parity Diff=0.4748\n"
     ]
    },
    {
     "name": "stderr",
     "output_type": "stream",
     "text": [
      "/opt/conda/lib/python3.11/site-packages/sklearn/utils/validation.py:1300: DataConversionWarning: A column-vector y was passed when a 1d array was expected. Please change the shape of y to (n_samples, ), for example using ravel().\n",
      "  y = column_or_1d(y, warn=True)\n"
     ]
    },
    {
     "name": "stdout",
     "output_type": "stream",
     "text": [
      "  Fold 3: Score=0.3971, Accuracy=0.4576, AUC=0.4541, Demographic Parity Diff=0.5146\n",
      "  Final (Avg) for lambda_adv=5.0, epochs=32, batch_size=256: Score=0.6558, Accuracy=0.5707, AUC=0.5685, Demographic Parity Diff=0.4835\n",
      "\n",
      "Testing lambda_adv=5.0, epochs=64, batch_size=64\n"
     ]
    },
    {
     "name": "stderr",
     "output_type": "stream",
     "text": [
      "/opt/conda/lib/python3.11/site-packages/sklearn/utils/validation.py:1300: DataConversionWarning: A column-vector y was passed when a 1d array was expected. Please change the shape of y to (n_samples, ), for example using ravel().\n",
      "  y = column_or_1d(y, warn=True)\n"
     ]
    },
    {
     "name": "stdout",
     "output_type": "stream",
     "text": [
      "  Fold 1: Score=1.3151, Accuracy=0.7624, AUC=0.7620, Demographic Parity Diff=0.2093\n"
     ]
    },
    {
     "name": "stderr",
     "output_type": "stream",
     "text": [
      "/opt/conda/lib/python3.11/site-packages/sklearn/utils/validation.py:1300: DataConversionWarning: A column-vector y was passed when a 1d array was expected. Please change the shape of y to (n_samples, ), for example using ravel().\n",
      "  y = column_or_1d(y, warn=True)\n"
     ]
    },
    {
     "name": "stdout",
     "output_type": "stream",
     "text": [
      "  Fold 2: Score=1.0705, Accuracy=0.7067, AUC=0.7063, Demographic Parity Diff=0.3424\n"
     ]
    },
    {
     "name": "stderr",
     "output_type": "stream",
     "text": [
      "/opt/conda/lib/python3.11/site-packages/sklearn/utils/validation.py:1300: DataConversionWarning: A column-vector y was passed when a 1d array was expected. Please change the shape of y to (n_samples, ), for example using ravel().\n",
      "  y = column_or_1d(y, warn=True)\n"
     ]
    },
    {
     "name": "stdout",
     "output_type": "stream",
     "text": [
      "  Fold 3: Score=1.2418, Accuracy=0.7644, AUC=0.7636, Demographic Parity Diff=0.2861\n",
      "  Final (Avg) for lambda_adv=5.0, epochs=64, batch_size=64: Score=1.2092, Accuracy=0.7445, AUC=0.7439, Demographic Parity Diff=0.2793\n",
      "\n",
      "Testing lambda_adv=5.0, epochs=64, batch_size=128\n"
     ]
    },
    {
     "name": "stderr",
     "output_type": "stream",
     "text": [
      "/opt/conda/lib/python3.11/site-packages/sklearn/utils/validation.py:1300: DataConversionWarning: A column-vector y was passed when a 1d array was expected. Please change the shape of y to (n_samples, ), for example using ravel().\n",
      "  y = column_or_1d(y, warn=True)\n"
     ]
    },
    {
     "name": "stdout",
     "output_type": "stream",
     "text": [
      "  Fold 1: Score=1.1396, Accuracy=0.7084, AUC=0.7085, Demographic Parity Diff=0.2774\n"
     ]
    },
    {
     "name": "stderr",
     "output_type": "stream",
     "text": [
      "/opt/conda/lib/python3.11/site-packages/sklearn/utils/validation.py:1300: DataConversionWarning: A column-vector y was passed when a 1d array was expected. Please change the shape of y to (n_samples, ), for example using ravel().\n",
      "  y = column_or_1d(y, warn=True)\n"
     ]
    },
    {
     "name": "stdout",
     "output_type": "stream",
     "text": [
      "  Fold 2: Score=0.8524, Accuracy=0.6864, AUC=0.6845, Demographic Parity Diff=0.5185\n"
     ]
    },
    {
     "name": "stderr",
     "output_type": "stream",
     "text": [
      "/opt/conda/lib/python3.11/site-packages/sklearn/utils/validation.py:1300: DataConversionWarning: A column-vector y was passed when a 1d array was expected. Please change the shape of y to (n_samples, ), for example using ravel().\n",
      "  y = column_or_1d(y, warn=True)\n"
     ]
    },
    {
     "name": "stdout",
     "output_type": "stream",
     "text": [
      "  Fold 3: Score=0.6574, Accuracy=0.6377, AUC=0.6362, Demographic Parity Diff=0.6165\n",
      "  Final (Avg) for lambda_adv=5.0, epochs=64, batch_size=128: Score=0.8831, Accuracy=0.6775, AUC=0.6764, Demographic Parity Diff=0.4708\n",
      "\n",
      "Testing lambda_adv=5.0, epochs=64, batch_size=256\n"
     ]
    },
    {
     "name": "stderr",
     "output_type": "stream",
     "text": [
      "/opt/conda/lib/python3.11/site-packages/sklearn/utils/validation.py:1300: DataConversionWarning: A column-vector y was passed when a 1d array was expected. Please change the shape of y to (n_samples, ), for example using ravel().\n",
      "  y = column_or_1d(y, warn=True)\n"
     ]
    },
    {
     "name": "stdout",
     "output_type": "stream",
     "text": [
      "  Fold 1: Score=0.4633, Accuracy=0.6357, AUC=0.6358, Demographic Parity Diff=0.8082\n"
     ]
    },
    {
     "name": "stderr",
     "output_type": "stream",
     "text": [
      "/opt/conda/lib/python3.11/site-packages/sklearn/utils/validation.py:1300: DataConversionWarning: A column-vector y was passed when a 1d array was expected. Please change the shape of y to (n_samples, ), for example using ravel().\n",
      "  y = column_or_1d(y, warn=True)\n"
     ]
    },
    {
     "name": "stdout",
     "output_type": "stream",
     "text": [
      "  Fold 2: Score=0.4955, Accuracy=0.6444, AUC=0.6433, Demographic Parity Diff=0.7922\n"
     ]
    },
    {
     "name": "stderr",
     "output_type": "stream",
     "text": [
      "/opt/conda/lib/python3.11/site-packages/sklearn/utils/validation.py:1300: DataConversionWarning: A column-vector y was passed when a 1d array was expected. Please change the shape of y to (n_samples, ), for example using ravel().\n",
      "  y = column_or_1d(y, warn=True)\n"
     ]
    },
    {
     "name": "stdout",
     "output_type": "stream",
     "text": [
      "  Fold 3: Score=0.4760, Accuracy=0.6414, AUC=0.6403, Demographic Parity Diff=0.8057\n",
      "  Final (Avg) for lambda_adv=5.0, epochs=64, batch_size=256: Score=0.4783, Accuracy=0.6405, AUC=0.6398, Demographic Parity Diff=0.8020\n",
      "\n",
      "Testing lambda_adv=5.0, epochs=128, batch_size=64\n"
     ]
    },
    {
     "name": "stderr",
     "output_type": "stream",
     "text": [
      "/opt/conda/lib/python3.11/site-packages/sklearn/utils/validation.py:1300: DataConversionWarning: A column-vector y was passed when a 1d array was expected. Please change the shape of y to (n_samples, ), for example using ravel().\n",
      "  y = column_or_1d(y, warn=True)\n"
     ]
    },
    {
     "name": "stdout",
     "output_type": "stream",
     "text": [
      "  Fold 1: Score=1.4140, Accuracy=0.7886, AUC=0.7889, Demographic Parity Diff=0.1635\n"
     ]
    },
    {
     "name": "stderr",
     "output_type": "stream",
     "text": [
      "/opt/conda/lib/python3.11/site-packages/sklearn/utils/validation.py:1300: DataConversionWarning: A column-vector y was passed when a 1d array was expected. Please change the shape of y to (n_samples, ), for example using ravel().\n",
      "  y = column_or_1d(y, warn=True)\n"
     ]
    },
    {
     "name": "stdout",
     "output_type": "stream",
     "text": [
      "  Fold 2: Score=1.4397, Accuracy=0.7682, AUC=0.7682, Demographic Parity Diff=0.0967\n"
     ]
    },
    {
     "name": "stderr",
     "output_type": "stream",
     "text": [
      "/opt/conda/lib/python3.11/site-packages/sklearn/utils/validation.py:1300: DataConversionWarning: A column-vector y was passed when a 1d array was expected. Please change the shape of y to (n_samples, ), for example using ravel().\n",
      "  y = column_or_1d(y, warn=True)\n"
     ]
    },
    {
     "name": "stdout",
     "output_type": "stream",
     "text": [
      "  Fold 3: Score=1.4375, Accuracy=0.7644, AUC=0.7647, Demographic Parity Diff=0.0916\n",
      "  Final (Avg) for lambda_adv=5.0, epochs=128, batch_size=64: Score=1.4304, Accuracy=0.7737, AUC=0.7739, Demographic Parity Diff=0.1172\n",
      "\n",
      "Testing lambda_adv=5.0, epochs=128, batch_size=128\n"
     ]
    },
    {
     "name": "stderr",
     "output_type": "stream",
     "text": [
      "/opt/conda/lib/python3.11/site-packages/sklearn/utils/validation.py:1300: DataConversionWarning: A column-vector y was passed when a 1d array was expected. Please change the shape of y to (n_samples, ), for example using ravel().\n",
      "  y = column_or_1d(y, warn=True)\n"
     ]
    },
    {
     "name": "stdout",
     "output_type": "stream",
     "text": [
      "  Fold 1: Score=1.1547, Accuracy=0.7204, AUC=0.7200, Demographic Parity Diff=0.2857\n"
     ]
    },
    {
     "name": "stderr",
     "output_type": "stream",
     "text": [
      "/opt/conda/lib/python3.11/site-packages/sklearn/utils/validation.py:1300: DataConversionWarning: A column-vector y was passed when a 1d array was expected. Please change the shape of y to (n_samples, ), for example using ravel().\n",
      "  y = column_or_1d(y, warn=True)\n"
     ]
    },
    {
     "name": "stdout",
     "output_type": "stream",
     "text": [
      "  Fold 2: Score=1.3991, Accuracy=0.7772, AUC=0.7771, Demographic Parity Diff=0.1552\n"
     ]
    },
    {
     "name": "stderr",
     "output_type": "stream",
     "text": [
      "/opt/conda/lib/python3.11/site-packages/sklearn/utils/validation.py:1300: DataConversionWarning: A column-vector y was passed when a 1d array was expected. Please change the shape of y to (n_samples, ), for example using ravel().\n",
      "  y = column_or_1d(y, warn=True)\n"
     ]
    },
    {
     "name": "stdout",
     "output_type": "stream",
     "text": [
      "  Fold 3: Score=1.2466, Accuracy=0.7382, AUC=0.7375, Demographic Parity Diff=0.2291\n",
      "  Final (Avg) for lambda_adv=5.0, epochs=128, batch_size=128: Score=1.2668, Accuracy=0.7453, AUC=0.7448, Demographic Parity Diff=0.2233\n",
      "\n",
      "Testing lambda_adv=5.0, epochs=128, batch_size=256\n"
     ]
    },
    {
     "name": "stderr",
     "output_type": "stream",
     "text": [
      "/opt/conda/lib/python3.11/site-packages/sklearn/utils/validation.py:1300: DataConversionWarning: A column-vector y was passed when a 1d array was expected. Please change the shape of y to (n_samples, ), for example using ravel().\n",
      "  y = column_or_1d(y, warn=True)\n"
     ]
    },
    {
     "name": "stdout",
     "output_type": "stream",
     "text": [
      "  Fold 1: Score=0.9828, Accuracy=0.7241, AUC=0.7239, Demographic Parity Diff=0.4652\n"
     ]
    },
    {
     "name": "stderr",
     "output_type": "stream",
     "text": [
      "/opt/conda/lib/python3.11/site-packages/sklearn/utils/validation.py:1300: DataConversionWarning: A column-vector y was passed when a 1d array was expected. Please change the shape of y to (n_samples, ), for example using ravel().\n",
      "  y = column_or_1d(y, warn=True)\n"
     ]
    },
    {
     "name": "stdout",
     "output_type": "stream",
     "text": [
      "  Fold 2: Score=0.8659, Accuracy=0.6879, AUC=0.6864, Demographic Parity Diff=0.5084\n"
     ]
    },
    {
     "name": "stderr",
     "output_type": "stream",
     "text": [
      "/opt/conda/lib/python3.11/site-packages/sklearn/utils/validation.py:1300: DataConversionWarning: A column-vector y was passed when a 1d array was expected. Please change the shape of y to (n_samples, ), for example using ravel().\n",
      "  y = column_or_1d(y, warn=True)\n"
     ]
    },
    {
     "name": "stdout",
     "output_type": "stream",
     "text": [
      "  Fold 3: Score=0.7478, Accuracy=0.6377, AUC=0.6355, Demographic Parity Diff=0.5254\n",
      "  Final (Avg) for lambda_adv=5.0, epochs=128, batch_size=256: Score=0.8655, Accuracy=0.6832, AUC=0.6819, Demographic Parity Diff=0.4997\n",
      "\n",
      "Testing lambda_adv=7.0, epochs=32, batch_size=64\n"
     ]
    },
    {
     "name": "stderr",
     "output_type": "stream",
     "text": [
      "/opt/conda/lib/python3.11/site-packages/sklearn/utils/validation.py:1300: DataConversionWarning: A column-vector y was passed when a 1d array was expected. Please change the shape of y to (n_samples, ), for example using ravel().\n",
      "  y = column_or_1d(y, warn=True)\n"
     ]
    },
    {
     "name": "stdout",
     "output_type": "stream",
     "text": [
      "  Fold 1: Score=1.2048, Accuracy=0.7099, AUC=0.7097, Demographic Parity Diff=0.2148\n"
     ]
    },
    {
     "name": "stderr",
     "output_type": "stream",
     "text": [
      "/opt/conda/lib/python3.11/site-packages/sklearn/utils/validation.py:1300: DataConversionWarning: A column-vector y was passed when a 1d array was expected. Please change the shape of y to (n_samples, ), for example using ravel().\n",
      "  y = column_or_1d(y, warn=True)\n"
     ]
    },
    {
     "name": "stdout",
     "output_type": "stream",
     "text": [
      "  Fold 2: Score=0.4477, Accuracy=0.6482, AUC=0.6482, Demographic Parity Diff=0.8486\n"
     ]
    },
    {
     "name": "stderr",
     "output_type": "stream",
     "text": [
      "/opt/conda/lib/python3.11/site-packages/sklearn/utils/validation.py:1300: DataConversionWarning: A column-vector y was passed when a 1d array was expected. Please change the shape of y to (n_samples, ), for example using ravel().\n",
      "  y = column_or_1d(y, warn=True)\n"
     ]
    },
    {
     "name": "stdout",
     "output_type": "stream",
     "text": [
      "  Fold 3: Score=0.8110, Accuracy=0.6662, AUC=0.6644, Demographic Parity Diff=0.5196\n",
      "  Final (Avg) for lambda_adv=7.0, epochs=32, batch_size=64: Score=0.8212, Accuracy=0.6747, AUC=0.6741, Demographic Parity Diff=0.5277\n",
      "\n",
      "Testing lambda_adv=7.0, epochs=32, batch_size=128\n"
     ]
    },
    {
     "name": "stderr",
     "output_type": "stream",
     "text": [
      "/opt/conda/lib/python3.11/site-packages/sklearn/utils/validation.py:1300: DataConversionWarning: A column-vector y was passed when a 1d array was expected. Please change the shape of y to (n_samples, ), for example using ravel().\n",
      "  y = column_or_1d(y, warn=True)\n"
     ]
    },
    {
     "name": "stdout",
     "output_type": "stream",
     "text": [
      "  Fold 1: Score=0.4585, Accuracy=0.6289, AUC=0.6296, Demographic Parity Diff=0.8000\n"
     ]
    },
    {
     "name": "stderr",
     "output_type": "stream",
     "text": [
      "/opt/conda/lib/python3.11/site-packages/sklearn/utils/validation.py:1300: DataConversionWarning: A column-vector y was passed when a 1d array was expected. Please change the shape of y to (n_samples, ), for example using ravel().\n",
      "  y = column_or_1d(y, warn=True)\n"
     ]
    },
    {
     "name": "stdout",
     "output_type": "stream",
     "text": [
      "  Fold 2: Score=0.4477, Accuracy=0.6482, AUC=0.6482, Demographic Parity Diff=0.8486\n"
     ]
    },
    {
     "name": "stderr",
     "output_type": "stream",
     "text": [
      "/opt/conda/lib/python3.11/site-packages/sklearn/utils/validation.py:1300: DataConversionWarning: A column-vector y was passed when a 1d array was expected. Please change the shape of y to (n_samples, ), for example using ravel().\n",
      "  y = column_or_1d(y, warn=True)\n"
     ]
    },
    {
     "name": "stdout",
     "output_type": "stream",
     "text": [
      "  Fold 3: Score=0.4355, Accuracy=0.6002, AUC=0.5989, Demographic Parity Diff=0.7636\n",
      "  Final (Avg) for lambda_adv=7.0, epochs=32, batch_size=128: Score=0.4472, Accuracy=0.6257, AUC=0.6256, Demographic Parity Diff=0.8041\n",
      "\n",
      "Testing lambda_adv=7.0, epochs=32, batch_size=256\n"
     ]
    },
    {
     "name": "stderr",
     "output_type": "stream",
     "text": [
      "/opt/conda/lib/python3.11/site-packages/sklearn/utils/validation.py:1300: DataConversionWarning: A column-vector y was passed when a 1d array was expected. Please change the shape of y to (n_samples, ), for example using ravel().\n",
      "  y = column_or_1d(y, warn=True)\n"
     ]
    },
    {
     "name": "stdout",
     "output_type": "stream",
     "text": [
      "  Fold 1: Score=0.5835, Accuracy=0.5727, AUC=0.5743, Demographic Parity Diff=0.5636\n"
     ]
    },
    {
     "name": "stderr",
     "output_type": "stream",
     "text": [
      "/opt/conda/lib/python3.11/site-packages/sklearn/utils/validation.py:1300: DataConversionWarning: A column-vector y was passed when a 1d array was expected. Please change the shape of y to (n_samples, ), for example using ravel().\n",
      "  y = column_or_1d(y, warn=True)\n"
     ]
    },
    {
     "name": "stdout",
     "output_type": "stream",
     "text": [
      "  Fold 2: Score=1.0772, Accuracy=0.5701, AUC=0.5630, Demographic Parity Diff=0.0560\n"
     ]
    },
    {
     "name": "stderr",
     "output_type": "stream",
     "text": [
      "/opt/conda/lib/python3.11/site-packages/sklearn/utils/validation.py:1300: DataConversionWarning: A column-vector y was passed when a 1d array was expected. Please change the shape of y to (n_samples, ), for example using ravel().\n",
      "  y = column_or_1d(y, warn=True)\n"
     ]
    },
    {
     "name": "stdout",
     "output_type": "stream",
     "text": [
      "  Fold 3: Score=0.8751, Accuracy=0.5244, AUC=0.5245, Demographic Parity Diff=0.1737\n",
      "  Final (Avg) for lambda_adv=7.0, epochs=32, batch_size=256: Score=0.8453, Accuracy=0.5557, AUC=0.5539, Demographic Parity Diff=0.2644\n",
      "\n",
      "Testing lambda_adv=7.0, epochs=64, batch_size=64\n"
     ]
    },
    {
     "name": "stderr",
     "output_type": "stream",
     "text": [
      "/opt/conda/lib/python3.11/site-packages/sklearn/utils/validation.py:1300: DataConversionWarning: A column-vector y was passed when a 1d array was expected. Please change the shape of y to (n_samples, ), for example using ravel().\n",
      "  y = column_or_1d(y, warn=True)\n"
     ]
    },
    {
     "name": "stdout",
     "output_type": "stream",
     "text": [
      "  Fold 1: Score=0.5462, Accuracy=0.6349, AUC=0.6336, Demographic Parity Diff=0.7223\n"
     ]
    },
    {
     "name": "stderr",
     "output_type": "stream",
     "text": [
      "/opt/conda/lib/python3.11/site-packages/sklearn/utils/validation.py:1300: DataConversionWarning: A column-vector y was passed when a 1d array was expected. Please change the shape of y to (n_samples, ), for example using ravel().\n",
      "  y = column_or_1d(y, warn=True)\n"
     ]
    },
    {
     "name": "stdout",
     "output_type": "stream",
     "text": [
      "  Fold 2: Score=1.3497, Accuracy=0.7412, AUC=0.7414, Demographic Parity Diff=0.1329\n"
     ]
    },
    {
     "name": "stderr",
     "output_type": "stream",
     "text": [
      "/opt/conda/lib/python3.11/site-packages/sklearn/utils/validation.py:1300: DataConversionWarning: A column-vector y was passed when a 1d array was expected. Please change the shape of y to (n_samples, ), for example using ravel().\n",
      "  y = column_or_1d(y, warn=True)\n"
     ]
    },
    {
     "name": "stdout",
     "output_type": "stream",
     "text": [
      "  Fold 3: Score=0.6694, Accuracy=0.6579, AUC=0.6574, Demographic Parity Diff=0.6459\n",
      "  Final (Avg) for lambda_adv=7.0, epochs=64, batch_size=64: Score=0.8551, Accuracy=0.6780, AUC=0.6774, Demographic Parity Diff=0.5004\n",
      "\n",
      "Testing lambda_adv=7.0, epochs=64, batch_size=128\n"
     ]
    },
    {
     "name": "stderr",
     "output_type": "stream",
     "text": [
      "/opt/conda/lib/python3.11/site-packages/sklearn/utils/validation.py:1300: DataConversionWarning: A column-vector y was passed when a 1d array was expected. Please change the shape of y to (n_samples, ), for example using ravel().\n",
      "  y = column_or_1d(y, warn=True)\n"
     ]
    },
    {
     "name": "stdout",
     "output_type": "stream",
     "text": [
      "  Fold 1: Score=0.4364, Accuracy=0.6289, AUC=0.6291, Demographic Parity Diff=0.8216\n"
     ]
    },
    {
     "name": "stderr",
     "output_type": "stream",
     "text": [
      "/opt/conda/lib/python3.11/site-packages/sklearn/utils/validation.py:1300: DataConversionWarning: A column-vector y was passed when a 1d array was expected. Please change the shape of y to (n_samples, ), for example using ravel().\n",
      "  y = column_or_1d(y, warn=True)\n"
     ]
    },
    {
     "name": "stdout",
     "output_type": "stream",
     "text": [
      "  Fold 2: Score=1.3379, Accuracy=0.6864, AUC=0.6884, Demographic Parity Diff=0.0368\n"
     ]
    },
    {
     "name": "stderr",
     "output_type": "stream",
     "text": [
      "/opt/conda/lib/python3.11/site-packages/sklearn/utils/validation.py:1300: DataConversionWarning: A column-vector y was passed when a 1d array was expected. Please change the shape of y to (n_samples, ), for example using ravel().\n",
      "  y = column_or_1d(y, warn=True)\n"
     ]
    },
    {
     "name": "stdout",
     "output_type": "stream",
     "text": [
      "  Fold 3: Score=0.4239, Accuracy=0.6339, AUC=0.6340, Demographic Parity Diff=0.8440\n",
      "  Final (Avg) for lambda_adv=7.0, epochs=64, batch_size=128: Score=0.7328, Accuracy=0.6498, AUC=0.6505, Demographic Parity Diff=0.5675\n",
      "\n",
      "Testing lambda_adv=7.0, epochs=64, batch_size=256\n"
     ]
    },
    {
     "name": "stderr",
     "output_type": "stream",
     "text": [
      "/opt/conda/lib/python3.11/site-packages/sklearn/utils/validation.py:1300: DataConversionWarning: A column-vector y was passed when a 1d array was expected. Please change the shape of y to (n_samples, ), for example using ravel().\n",
      "  y = column_or_1d(y, warn=True)\n"
     ]
    },
    {
     "name": "stdout",
     "output_type": "stream",
     "text": [
      "  Fold 1: Score=0.4364, Accuracy=0.6289, AUC=0.6291, Demographic Parity Diff=0.8216\n"
     ]
    },
    {
     "name": "stderr",
     "output_type": "stream",
     "text": [
      "/opt/conda/lib/python3.11/site-packages/sklearn/utils/validation.py:1300: DataConversionWarning: A column-vector y was passed when a 1d array was expected. Please change the shape of y to (n_samples, ), for example using ravel().\n",
      "  y = column_or_1d(y, warn=True)\n"
     ]
    },
    {
     "name": "stdout",
     "output_type": "stream",
     "text": [
      "  Fold 2: Score=0.4477, Accuracy=0.6482, AUC=0.6482, Demographic Parity Diff=0.8486\n"
     ]
    },
    {
     "name": "stderr",
     "output_type": "stream",
     "text": [
      "/opt/conda/lib/python3.11/site-packages/sklearn/utils/validation.py:1300: DataConversionWarning: A column-vector y was passed when a 1d array was expected. Please change the shape of y to (n_samples, ), for example using ravel().\n",
      "  y = column_or_1d(y, warn=True)\n"
     ]
    },
    {
     "name": "stdout",
     "output_type": "stream",
     "text": [
      "  Fold 3: Score=0.0174, Accuracy=0.4059, AUC=0.4061, Demographic Parity Diff=0.7945\n",
      "  Final (Avg) for lambda_adv=7.0, epochs=64, batch_size=256: Score=0.3005, Accuracy=0.5610, AUC=0.5611, Demographic Parity Diff=0.8216\n",
      "\n",
      "Testing lambda_adv=7.0, epochs=128, batch_size=64\n"
     ]
    },
    {
     "name": "stderr",
     "output_type": "stream",
     "text": [
      "/opt/conda/lib/python3.11/site-packages/sklearn/utils/validation.py:1300: DataConversionWarning: A column-vector y was passed when a 1d array was expected. Please change the shape of y to (n_samples, ), for example using ravel().\n",
      "  y = column_or_1d(y, warn=True)\n"
     ]
    },
    {
     "name": "stdout",
     "output_type": "stream",
     "text": [
      "  Fold 1: Score=1.2878, Accuracy=0.7526, AUC=0.7527, Demographic Parity Diff=0.2175\n"
     ]
    },
    {
     "name": "stderr",
     "output_type": "stream",
     "text": [
      "/opt/conda/lib/python3.11/site-packages/sklearn/utils/validation.py:1300: DataConversionWarning: A column-vector y was passed when a 1d array was expected. Please change the shape of y to (n_samples, ), for example using ravel().\n",
      "  y = column_or_1d(y, warn=True)\n"
     ]
    },
    {
     "name": "stdout",
     "output_type": "stream",
     "text": [
      "  Fold 2: Score=1.2850, Accuracy=0.7389, AUC=0.7385, Demographic Parity Diff=0.1924\n"
     ]
    },
    {
     "name": "stderr",
     "output_type": "stream",
     "text": [
      "/opt/conda/lib/python3.11/site-packages/sklearn/utils/validation.py:1300: DataConversionWarning: A column-vector y was passed when a 1d array was expected. Please change the shape of y to (n_samples, ), for example using ravel().\n",
      "  y = column_or_1d(y, warn=True)\n"
     ]
    },
    {
     "name": "stdout",
     "output_type": "stream",
     "text": [
      "  Fold 3: Score=1.3639, Accuracy=0.7509, AUC=0.7506, Demographic Parity Diff=0.1376\n",
      "  Final (Avg) for lambda_adv=7.0, epochs=128, batch_size=64: Score=1.3123, Accuracy=0.7475, AUC=0.7473, Demographic Parity Diff=0.1825\n",
      "\n",
      "Testing lambda_adv=7.0, epochs=128, batch_size=128\n"
     ]
    },
    {
     "name": "stderr",
     "output_type": "stream",
     "text": [
      "/opt/conda/lib/python3.11/site-packages/sklearn/utils/validation.py:1300: DataConversionWarning: A column-vector y was passed when a 1d array was expected. Please change the shape of y to (n_samples, ), for example using ravel().\n",
      "  y = column_or_1d(y, warn=True)\n"
     ]
    },
    {
     "name": "stdout",
     "output_type": "stream",
     "text": [
      "  Fold 1: Score=1.3240, Accuracy=0.7534, AUC=0.7530, Demographic Parity Diff=0.1824\n"
     ]
    },
    {
     "name": "stderr",
     "output_type": "stream",
     "text": [
      "/opt/conda/lib/python3.11/site-packages/sklearn/utils/validation.py:1300: DataConversionWarning: A column-vector y was passed when a 1d array was expected. Please change the shape of y to (n_samples, ), for example using ravel().\n",
      "  y = column_or_1d(y, warn=True)\n"
     ]
    },
    {
     "name": "stdout",
     "output_type": "stream",
     "text": [
      "  Fold 2: Score=1.1680, Accuracy=0.6752, AUC=0.6748, Demographic Parity Diff=0.1820\n"
     ]
    },
    {
     "name": "stderr",
     "output_type": "stream",
     "text": [
      "/opt/conda/lib/python3.11/site-packages/sklearn/utils/validation.py:1300: DataConversionWarning: A column-vector y was passed when a 1d array was expected. Please change the shape of y to (n_samples, ), for example using ravel().\n",
      "  y = column_or_1d(y, warn=True)\n"
     ]
    },
    {
     "name": "stdout",
     "output_type": "stream",
     "text": [
      "  Fold 3: Score=1.0770, Accuracy=0.7254, AUC=0.7240, Demographic Parity Diff=0.3724\n",
      "  Final (Avg) for lambda_adv=7.0, epochs=128, batch_size=128: Score=1.1897, Accuracy=0.7180, AUC=0.7173, Demographic Parity Diff=0.2456\n",
      "\n",
      "Testing lambda_adv=7.0, epochs=128, batch_size=256\n"
     ]
    },
    {
     "name": "stderr",
     "output_type": "stream",
     "text": [
      "/opt/conda/lib/python3.11/site-packages/sklearn/utils/validation.py:1300: DataConversionWarning: A column-vector y was passed when a 1d array was expected. Please change the shape of y to (n_samples, ), for example using ravel().\n",
      "  y = column_or_1d(y, warn=True)\n"
     ]
    },
    {
     "name": "stdout",
     "output_type": "stream",
     "text": [
      "  Fold 1: Score=0.5115, Accuracy=0.6417, AUC=0.6418, Demographic Parity Diff=0.7720\n"
     ]
    },
    {
     "name": "stderr",
     "output_type": "stream",
     "text": [
      "/opt/conda/lib/python3.11/site-packages/sklearn/utils/validation.py:1300: DataConversionWarning: A column-vector y was passed when a 1d array was expected. Please change the shape of y to (n_samples, ), for example using ravel().\n",
      "  y = column_or_1d(y, warn=True)\n"
     ]
    },
    {
     "name": "stdout",
     "output_type": "stream",
     "text": [
      "  Fold 2: Score=0.6336, Accuracy=0.6527, AUC=0.6516, Demographic Parity Diff=0.6707\n"
     ]
    },
    {
     "name": "stderr",
     "output_type": "stream",
     "text": [
      "/opt/conda/lib/python3.11/site-packages/sklearn/utils/validation.py:1300: DataConversionWarning: A column-vector y was passed when a 1d array was expected. Please change the shape of y to (n_samples, ), for example using ravel().\n",
      "  y = column_or_1d(y, warn=True)\n"
     ]
    },
    {
     "name": "stdout",
     "output_type": "stream",
     "text": [
      "  Fold 3: Score=0.6916, Accuracy=0.6617, AUC=0.6601, Demographic Parity Diff=0.6302\n",
      "  Final (Avg) for lambda_adv=7.0, epochs=128, batch_size=256: Score=0.6122, Accuracy=0.6520, AUC=0.6512, Demographic Parity Diff=0.6909\n",
      "\n",
      "Testing lambda_adv=15.0, epochs=32, batch_size=64\n"
     ]
    },
    {
     "name": "stderr",
     "output_type": "stream",
     "text": [
      "/opt/conda/lib/python3.11/site-packages/sklearn/utils/validation.py:1300: DataConversionWarning: A column-vector y was passed when a 1d array was expected. Please change the shape of y to (n_samples, ), for example using ravel().\n",
      "  y = column_or_1d(y, warn=True)\n"
     ]
    },
    {
     "name": "stdout",
     "output_type": "stream",
     "text": [
      "  Fold 1: Score=0.5689, Accuracy=0.6364, AUC=0.6362, Demographic Parity Diff=0.7038\n"
     ]
    },
    {
     "name": "stderr",
     "output_type": "stream",
     "text": [
      "/opt/conda/lib/python3.11/site-packages/sklearn/utils/validation.py:1300: DataConversionWarning: A column-vector y was passed when a 1d array was expected. Please change the shape of y to (n_samples, ), for example using ravel().\n",
      "  y = column_or_1d(y, warn=True)\n"
     ]
    },
    {
     "name": "stdout",
     "output_type": "stream",
     "text": [
      "  Fold 2: Score=0.4507, Accuracy=0.6482, AUC=0.6482, Demographic Parity Diff=0.8456\n"
     ]
    },
    {
     "name": "stderr",
     "output_type": "stream",
     "text": [
      "/opt/conda/lib/python3.11/site-packages/sklearn/utils/validation.py:1300: DataConversionWarning: A column-vector y was passed when a 1d array was expected. Please change the shape of y to (n_samples, ), for example using ravel().\n",
      "  y = column_or_1d(y, warn=True)\n"
     ]
    },
    {
     "name": "stdout",
     "output_type": "stream",
     "text": [
      "  Fold 3: Score=0.4061, Accuracy=0.6332, AUC=0.6327, Demographic Parity Diff=0.8598\n",
      "  Final (Avg) for lambda_adv=15.0, epochs=32, batch_size=64: Score=0.4752, Accuracy=0.6393, AUC=0.6390, Demographic Parity Diff=0.8031\n",
      "\n",
      "Testing lambda_adv=15.0, epochs=32, batch_size=128\n"
     ]
    },
    {
     "name": "stderr",
     "output_type": "stream",
     "text": [
      "/opt/conda/lib/python3.11/site-packages/sklearn/utils/validation.py:1300: DataConversionWarning: A column-vector y was passed when a 1d array was expected. Please change the shape of y to (n_samples, ), for example using ravel().\n",
      "  y = column_or_1d(y, warn=True)\n"
     ]
    },
    {
     "name": "stdout",
     "output_type": "stream",
     "text": [
      "  Fold 1: Score=0.4400, Accuracy=0.6192, AUC=0.6190, Demographic Parity Diff=0.7981\n"
     ]
    },
    {
     "name": "stderr",
     "output_type": "stream",
     "text": [
      "/opt/conda/lib/python3.11/site-packages/sklearn/utils/validation.py:1300: DataConversionWarning: A column-vector y was passed when a 1d array was expected. Please change the shape of y to (n_samples, ), for example using ravel().\n",
      "  y = column_or_1d(y, warn=True)\n"
     ]
    },
    {
     "name": "stdout",
     "output_type": "stream",
     "text": [
      "  Fold 2: Score=0.5504, Accuracy=0.6399, AUC=0.6414, Demographic Parity Diff=0.7309\n"
     ]
    },
    {
     "name": "stderr",
     "output_type": "stream",
     "text": [
      "/opt/conda/lib/python3.11/site-packages/sklearn/utils/validation.py:1300: DataConversionWarning: A column-vector y was passed when a 1d array was expected. Please change the shape of y to (n_samples, ), for example using ravel().\n",
      "  y = column_or_1d(y, warn=True)\n"
     ]
    },
    {
     "name": "stdout",
     "output_type": "stream",
     "text": [
      "  Fold 3: Score=0.6024, Accuracy=0.6092, AUC=0.6057, Demographic Parity Diff=0.6124\n",
      "  Final (Avg) for lambda_adv=15.0, epochs=32, batch_size=128: Score=0.5309, Accuracy=0.6228, AUC=0.6220, Demographic Parity Diff=0.7138\n",
      "\n",
      "Testing lambda_adv=15.0, epochs=32, batch_size=256\n"
     ]
    },
    {
     "name": "stderr",
     "output_type": "stream",
     "text": [
      "/opt/conda/lib/python3.11/site-packages/sklearn/utils/validation.py:1300: DataConversionWarning: A column-vector y was passed when a 1d array was expected. Please change the shape of y to (n_samples, ), for example using ravel().\n",
      "  y = column_or_1d(y, warn=True)\n"
     ]
    },
    {
     "name": "stdout",
     "output_type": "stream",
     "text": [
      "  Fold 1: Score=0.4364, Accuracy=0.6289, AUC=0.6291, Demographic Parity Diff=0.8216\n"
     ]
    },
    {
     "name": "stderr",
     "output_type": "stream",
     "text": [
      "/opt/conda/lib/python3.11/site-packages/sklearn/utils/validation.py:1300: DataConversionWarning: A column-vector y was passed when a 1d array was expected. Please change the shape of y to (n_samples, ), for example using ravel().\n",
      "  y = column_or_1d(y, warn=True)\n"
     ]
    },
    {
     "name": "stdout",
     "output_type": "stream",
     "text": [
      "  Fold 2: Score=0.4939, Accuracy=0.6197, AUC=0.6181, Demographic Parity Diff=0.7438\n"
     ]
    },
    {
     "name": "stderr",
     "output_type": "stream",
     "text": [
      "/opt/conda/lib/python3.11/site-packages/sklearn/utils/validation.py:1300: DataConversionWarning: A column-vector y was passed when a 1d array was expected. Please change the shape of y to (n_samples, ), for example using ravel().\n",
      "  y = column_or_1d(y, warn=True)\n"
     ]
    },
    {
     "name": "stdout",
     "output_type": "stream",
     "text": [
      "  Fold 3: Score=0.4061, Accuracy=0.6332, AUC=0.6327, Demographic Parity Diff=0.8598\n",
      "  Final (Avg) for lambda_adv=15.0, epochs=32, batch_size=256: Score=0.4455, Accuracy=0.6272, AUC=0.6266, Demographic Parity Diff=0.8084\n",
      "\n",
      "Testing lambda_adv=15.0, epochs=64, batch_size=64\n"
     ]
    },
    {
     "name": "stderr",
     "output_type": "stream",
     "text": [
      "/opt/conda/lib/python3.11/site-packages/sklearn/utils/validation.py:1300: DataConversionWarning: A column-vector y was passed when a 1d array was expected. Please change the shape of y to (n_samples, ), for example using ravel().\n",
      "  y = column_or_1d(y, warn=True)\n"
     ]
    },
    {
     "name": "stdout",
     "output_type": "stream",
     "text": [
      "  Fold 1: Score=0.4332, Accuracy=0.6259, AUC=0.6266, Demographic Parity Diff=0.8193\n"
     ]
    },
    {
     "name": "stderr",
     "output_type": "stream",
     "text": [
      "/opt/conda/lib/python3.11/site-packages/sklearn/utils/validation.py:1300: DataConversionWarning: A column-vector y was passed when a 1d array was expected. Please change the shape of y to (n_samples, ), for example using ravel().\n",
      "  y = column_or_1d(y, warn=True)\n"
     ]
    },
    {
     "name": "stdout",
     "output_type": "stream",
     "text": [
      "  Fold 2: Score=0.4687, Accuracy=0.6519, AUC=0.6516, Demographic Parity Diff=0.8348\n"
     ]
    },
    {
     "name": "stderr",
     "output_type": "stream",
     "text": [
      "/opt/conda/lib/python3.11/site-packages/sklearn/utils/validation.py:1300: DataConversionWarning: A column-vector y was passed when a 1d array was expected. Please change the shape of y to (n_samples, ), for example using ravel().\n",
      "  y = column_or_1d(y, warn=True)\n"
     ]
    },
    {
     "name": "stdout",
     "output_type": "stream",
     "text": [
      "  Fold 3: Score=0.5176, Accuracy=0.6354, AUC=0.6365, Demographic Parity Diff=0.7543\n",
      "  Final (Avg) for lambda_adv=15.0, epochs=64, batch_size=64: Score=0.4732, Accuracy=0.6378, AUC=0.6382, Demographic Parity Diff=0.8028\n",
      "\n",
      "Testing lambda_adv=15.0, epochs=64, batch_size=128\n"
     ]
    },
    {
     "name": "stderr",
     "output_type": "stream",
     "text": [
      "/opt/conda/lib/python3.11/site-packages/sklearn/utils/validation.py:1300: DataConversionWarning: A column-vector y was passed when a 1d array was expected. Please change the shape of y to (n_samples, ), for example using ravel().\n",
      "  y = column_or_1d(y, warn=True)\n"
     ]
    },
    {
     "name": "stdout",
     "output_type": "stream",
     "text": [
      "  Fold 1: Score=0.4364, Accuracy=0.6289, AUC=0.6291, Demographic Parity Diff=0.8216\n"
     ]
    },
    {
     "name": "stderr",
     "output_type": "stream",
     "text": [
      "/opt/conda/lib/python3.11/site-packages/sklearn/utils/validation.py:1300: DataConversionWarning: A column-vector y was passed when a 1d array was expected. Please change the shape of y to (n_samples, ), for example using ravel().\n",
      "  y = column_or_1d(y, warn=True)\n"
     ]
    },
    {
     "name": "stdout",
     "output_type": "stream",
     "text": [
      "  Fold 2: Score=0.9324, Accuracy=0.6609, AUC=0.6597, Demographic Parity Diff=0.3883\n"
     ]
    },
    {
     "name": "stderr",
     "output_type": "stream",
     "text": [
      "/opt/conda/lib/python3.11/site-packages/sklearn/utils/validation.py:1300: DataConversionWarning: A column-vector y was passed when a 1d array was expected. Please change the shape of y to (n_samples, ), for example using ravel().\n",
      "  y = column_or_1d(y, warn=True)\n"
     ]
    },
    {
     "name": "stdout",
     "output_type": "stream",
     "text": [
      "  Fold 3: Score=0.4106, Accuracy=0.6339, AUC=0.6335, Demographic Parity Diff=0.8568\n",
      "  Final (Avg) for lambda_adv=15.0, epochs=64, batch_size=128: Score=0.5931, Accuracy=0.6413, AUC=0.6408, Demographic Parity Diff=0.6889\n",
      "\n",
      "Testing lambda_adv=15.0, epochs=64, batch_size=256\n"
     ]
    },
    {
     "name": "stderr",
     "output_type": "stream",
     "text": [
      "/opt/conda/lib/python3.11/site-packages/sklearn/utils/validation.py:1300: DataConversionWarning: A column-vector y was passed when a 1d array was expected. Please change the shape of y to (n_samples, ), for example using ravel().\n",
      "  y = column_or_1d(y, warn=True)\n"
     ]
    },
    {
     "name": "stdout",
     "output_type": "stream",
     "text": [
      "  Fold 1: Score=0.4273, Accuracy=0.6229, AUC=0.6230, Demographic Parity Diff=0.8187\n"
     ]
    },
    {
     "name": "stderr",
     "output_type": "stream",
     "text": [
      "/opt/conda/lib/python3.11/site-packages/sklearn/utils/validation.py:1300: DataConversionWarning: A column-vector y was passed when a 1d array was expected. Please change the shape of y to (n_samples, ), for example using ravel().\n",
      "  y = column_or_1d(y, warn=True)\n"
     ]
    },
    {
     "name": "stdout",
     "output_type": "stream",
     "text": [
      "  Fold 2: Score=0.2009, Accuracy=0.3946, AUC=0.3976, Demographic Parity Diff=0.5912\n"
     ]
    },
    {
     "name": "stderr",
     "output_type": "stream",
     "text": [
      "/opt/conda/lib/python3.11/site-packages/sklearn/utils/validation.py:1300: DataConversionWarning: A column-vector y was passed when a 1d array was expected. Please change the shape of y to (n_samples, ), for example using ravel().\n",
      "  y = column_or_1d(y, warn=True)\n"
     ]
    },
    {
     "name": "stdout",
     "output_type": "stream",
     "text": [
      "  Fold 3: Score=0.4406, Accuracy=0.6332, AUC=0.6324, Demographic Parity Diff=0.8250\n",
      "  Final (Avg) for lambda_adv=15.0, epochs=64, batch_size=256: Score=0.3563, Accuracy=0.5502, AUC=0.5510, Demographic Parity Diff=0.7450\n",
      "\n",
      "Testing lambda_adv=15.0, epochs=128, batch_size=64\n"
     ]
    },
    {
     "name": "stderr",
     "output_type": "stream",
     "text": [
      "/opt/conda/lib/python3.11/site-packages/sklearn/utils/validation.py:1300: DataConversionWarning: A column-vector y was passed when a 1d array was expected. Please change the shape of y to (n_samples, ), for example using ravel().\n",
      "  y = column_or_1d(y, warn=True)\n"
     ]
    },
    {
     "name": "stdout",
     "output_type": "stream",
     "text": [
      "  Fold 1: Score=0.5239, Accuracy=0.6349, AUC=0.6340, Demographic Parity Diff=0.7451\n"
     ]
    },
    {
     "name": "stderr",
     "output_type": "stream",
     "text": [
      "/opt/conda/lib/python3.11/site-packages/sklearn/utils/validation.py:1300: DataConversionWarning: A column-vector y was passed when a 1d array was expected. Please change the shape of y to (n_samples, ), for example using ravel().\n",
      "  y = column_or_1d(y, warn=True)\n"
     ]
    },
    {
     "name": "stdout",
     "output_type": "stream",
     "text": [
      "  Fold 2: Score=0.6802, Accuracy=0.6437, AUC=0.6428, Demographic Parity Diff=0.6063\n"
     ]
    },
    {
     "name": "stderr",
     "output_type": "stream",
     "text": [
      "/opt/conda/lib/python3.11/site-packages/sklearn/utils/validation.py:1300: DataConversionWarning: A column-vector y was passed when a 1d array was expected. Please change the shape of y to (n_samples, ), for example using ravel().\n",
      "  y = column_or_1d(y, warn=True)\n"
     ]
    },
    {
     "name": "stdout",
     "output_type": "stream",
     "text": [
      "  Fold 3: Score=0.6133, Accuracy=0.6272, AUC=0.6292, Demographic Parity Diff=0.6431\n",
      "  Final (Avg) for lambda_adv=15.0, epochs=128, batch_size=64: Score=0.6058, Accuracy=0.6353, AUC=0.6354, Demographic Parity Diff=0.6648\n",
      "\n",
      "Testing lambda_adv=15.0, epochs=128, batch_size=128\n"
     ]
    },
    {
     "name": "stderr",
     "output_type": "stream",
     "text": [
      "/opt/conda/lib/python3.11/site-packages/sklearn/utils/validation.py:1300: DataConversionWarning: A column-vector y was passed when a 1d array was expected. Please change the shape of y to (n_samples, ), for example using ravel().\n",
      "  y = column_or_1d(y, warn=True)\n"
     ]
    },
    {
     "name": "stdout",
     "output_type": "stream",
     "text": [
      "  Fold 1: Score=0.7294, Accuracy=0.6619, AUC=0.6617, Demographic Parity Diff=0.5943\n"
     ]
    },
    {
     "name": "stderr",
     "output_type": "stream",
     "text": [
      "/opt/conda/lib/python3.11/site-packages/sklearn/utils/validation.py:1300: DataConversionWarning: A column-vector y was passed when a 1d array was expected. Please change the shape of y to (n_samples, ), for example using ravel().\n",
      "  y = column_or_1d(y, warn=True)\n"
     ]
    },
    {
     "name": "stdout",
     "output_type": "stream",
     "text": [
      "  Fold 2: Score=1.0704, Accuracy=0.6474, AUC=0.6464, Demographic Parity Diff=0.2234\n"
     ]
    },
    {
     "name": "stderr",
     "output_type": "stream",
     "text": [
      "/opt/conda/lib/python3.11/site-packages/sklearn/utils/validation.py:1300: DataConversionWarning: A column-vector y was passed when a 1d array was expected. Please change the shape of y to (n_samples, ), for example using ravel().\n",
      "  y = column_or_1d(y, warn=True)\n"
     ]
    },
    {
     "name": "stdout",
     "output_type": "stream",
     "text": [
      "  Fold 3: Score=0.4061, Accuracy=0.6332, AUC=0.6327, Demographic Parity Diff=0.8598\n",
      "  Final (Avg) for lambda_adv=15.0, epochs=128, batch_size=128: Score=0.7353, Accuracy=0.6475, AUC=0.6470, Demographic Parity Diff=0.5592\n",
      "\n",
      "Testing lambda_adv=15.0, epochs=128, batch_size=256\n"
     ]
    },
    {
     "name": "stderr",
     "output_type": "stream",
     "text": [
      "/opt/conda/lib/python3.11/site-packages/sklearn/utils/validation.py:1300: DataConversionWarning: A column-vector y was passed when a 1d array was expected. Please change the shape of y to (n_samples, ), for example using ravel().\n",
      "  y = column_or_1d(y, warn=True)\n"
     ]
    },
    {
     "name": "stdout",
     "output_type": "stream",
     "text": [
      "  Fold 1: Score=0.4364, Accuracy=0.6289, AUC=0.6291, Demographic Parity Diff=0.8216\n"
     ]
    },
    {
     "name": "stderr",
     "output_type": "stream",
     "text": [
      "/opt/conda/lib/python3.11/site-packages/sklearn/utils/validation.py:1300: DataConversionWarning: A column-vector y was passed when a 1d array was expected. Please change the shape of y to (n_samples, ), for example using ravel().\n",
      "  y = column_or_1d(y, warn=True)\n"
     ]
    },
    {
     "name": "stdout",
     "output_type": "stream",
     "text": [
      "  Fold 2: Score=0.4508, Accuracy=0.6474, AUC=0.6475, Demographic Parity Diff=0.8441\n",
      "  Fold 3: Score=0.4061, Accuracy=0.6332, AUC=0.6327, Demographic Parity Diff=0.8598\n",
      "  Final (Avg) for lambda_adv=15.0, epochs=128, batch_size=256: Score=0.4311, Accuracy=0.6365, AUC=0.6365, Demographic Parity Diff=0.8419\n",
      "\n",
      "Best Hyperparameters: lambda_adv                   5.000000\n",
      "epochs                     128.000000\n",
      "batch_size                  64.000000\n",
      "score                        1.430408\n",
      "accuracy                     0.773746\n",
      "auc                          0.773909\n",
      "demographic_parity_diff      0.117248\n",
      "Name: 24, dtype: float64\n"
     ]
    },
    {
     "name": "stderr",
     "output_type": "stream",
     "text": [
      "/opt/conda/lib/python3.11/site-packages/sklearn/utils/validation.py:1300: DataConversionWarning: A column-vector y was passed when a 1d array was expected. Please change the shape of y to (n_samples, ), for example using ravel().\n",
      "  y = column_or_1d(y, warn=True)\n"
     ]
    }
   ],
   "source": [
    "from sklearn.model_selection import StratifiedKFold\n",
    "from itertools import product\n",
    "import numpy as np\n",
    "import pandas as pd\n",
    "from sklearn.base import BaseEstimator, ClassifierMixin\n",
    "\n",
    "\n",
    "class AdversarialModelWrapperFixed(BaseEstimator, ClassifierMixin):\n",
    "    \"\"\"\n",
    "    Fixed Wrapper for Adversarial Model to work with Grid Search.\n",
    "    \"\"\"\n",
    "\n",
    "    def __init__(self, lambda_adv=1.0, epochs=64, batch_size=128):\n",
    "        self.lambda_adv = lambda_adv\n",
    "        self.epochs = epochs\n",
    "        self.batch_size = batch_size\n",
    "        self.model = None\n",
    "\n",
    "    def fit(self, X, y, S):\n",
    "        \"\"\"\n",
    "        Train the adversarial model. S is now passed dynamically per fold.\n",
    "        \"\"\"\n",
    "        y = y.ravel()  # Convert to 1D array\n",
    "        input_dim = X.shape[1]\n",
    "        S_oh = tf.keras.utils.to_categorical(S, num_classes=2)\n",
    "\n",
    "        self.model = build_adversarial_model(input_dim, lambda_adv=self.lambda_adv)\n",
    "        self.model.fit(\n",
    "            [X, S_oh],\n",
    "            {\"pseudo_Y\": y, \"S_pred\": S_oh, \"Y_pred\": y},\n",
    "            epochs=self.epochs,\n",
    "            batch_size=self.batch_size,\n",
    "            verbose=0\n",
    "        )\n",
    "        return self\n",
    "\n",
    "    def predict(self, X, S):\n",
    "        \"\"\"\n",
    "        Generate predictions from the trained model. S must match X per fold.\n",
    "        \"\"\"\n",
    "        S_oh = tf.keras.utils.to_categorical(S, num_classes=2)\n",
    "        _, _, Y_pred = self.model.predict([X, S_oh], verbose=0)\n",
    "        return (Y_pred > 0.5).astype(np.float32)\n",
    "\n",
    "    def score(self, X, y, S, return_metrics=False):\n",
    "        \"\"\"\n",
    "        Compute the optimization score combining AUC, accuracy, and fairness metrics.\n",
    "        \"\"\"\n",
    "        y = y.ravel()  # Convert to 1D array\n",
    "        y_pred = self.predict(X, S)\n",
    "        auc = roc_auc_score(y, y_pred)\n",
    "        accuracy = accuracy_score(y, y_pred)\n",
    "\n",
    "        fairness_metrics = run_logistic(X, y_pred, X, y, S, S)[2]  # Get fairness metrics\n",
    "        demographic_parity_diff = abs(fairness_metrics[\"demographic_parity_difference\"])\n",
    "\n",
    "        # Objective function (equal weights for now)\n",
    "        score = auc + accuracy - demographic_parity_diff\n",
    "\n",
    "        if return_metrics:\n",
    "            return score, accuracy, auc, demographic_parity_diff\n",
    "        return score\n",
    "\n",
    "# Load synthetic dataset\n",
    "set_seed(42)\n",
    "X_train, X_test, Y_train_raw, Y_test_raw, S_train, S_test = generate_synthetic_data()\n",
    "Y_train_biased, Y_test_biased = inject_bias(bias_factor=0.3, seed=42)\n",
    "\n",
    "# Convert `Y_train_biased` to a 1D array\n",
    "Y_train_biased = Y_train_biased.ravel()\n",
    "\n",
    "param_grid = {\n",
    "    \"lambda_adv\": [1.0, 3.0, 5.0, 7.0, 15.0],\n",
    "    \"epochs\": [32, 64, 128],\n",
    "    \"batch_size\": [64, 128, 256]\n",
    "}\n",
    "\n",
    "# Custom cross-validation\n",
    "cv = StratifiedKFold(n_splits=3, shuffle=True, random_state=42)\n",
    "\n",
    "# Store results\n",
    "results = []\n",
    "\n",
    "# Perform manual grid search\n",
    "for lambda_adv, epochs, batch_size in product(param_grid[\"lambda_adv\"], param_grid[\"epochs\"], param_grid[\"batch_size\"]):\n",
    "    scores, accuracies, aucs, demographic_parity_diffs = [], [], [], []\n",
    "    \n",
    "    print(f\"\\nTesting lambda_adv={lambda_adv}, epochs={epochs}, batch_size={batch_size}\")\n",
    "    \n",
    "    for fold, (train_idx, val_idx) in enumerate(cv.split(X_train, Y_train_biased)):\n",
    "        # Split data\n",
    "        X_train_fold, X_val_fold = X_train[train_idx], X_train[val_idx]\n",
    "        Y_train_fold, Y_val_fold = Y_train_biased[train_idx], Y_train_biased[val_idx]\n",
    "        S_train_fold, S_val_fold = S_train[train_idx], S_train[val_idx]\n",
    "\n",
    "        # Train model\n",
    "        model = AdversarialModelWrapperFixed(lambda_adv=lambda_adv, epochs=epochs, batch_size=batch_size)\n",
    "        model.fit(X_train_fold, Y_train_fold, S=S_train_fold)\n",
    "\n",
    "        # Evaluate model\n",
    "        score, accuracy, auc, demographic_parity_diff = model.score(X_val_fold, Y_val_fold, S_val_fold, return_metrics=True)\n",
    "        scores.append(score)\n",
    "        accuracies.append(accuracy)\n",
    "        aucs.append(auc)\n",
    "        demographic_parity_diffs.append(demographic_parity_diff)\n",
    "\n",
    "        # Print results per fold\n",
    "        print(f\"  Fold {fold + 1}: Score={score:.4f}, Accuracy={accuracy:.4f}, AUC={auc:.4f}, Demographic Parity Diff={demographic_parity_diff:.4f}\")\n",
    "\n",
    "    # Store average scores across folds\n",
    "    avg_score = np.mean(scores)\n",
    "    avg_accuracy = np.mean(accuracies)\n",
    "    avg_auc = np.mean(aucs)\n",
    "    avg_demographic_parity_diff = np.mean(demographic_parity_diffs)\n",
    "\n",
    "    results.append({\n",
    "        \"lambda_adv\": lambda_adv,\n",
    "        \"epochs\": epochs,\n",
    "        \"batch_size\": batch_size,\n",
    "        \"score\": avg_score,\n",
    "        \"accuracy\": avg_accuracy,\n",
    "        \"auc\": avg_auc,\n",
    "        \"demographic_parity_diff\": avg_demographic_parity_diff\n",
    "    })\n",
    "\n",
    "    print(f\"  Final (Avg) for lambda_adv={lambda_adv}, epochs={epochs}, batch_size={batch_size}: \"\n",
    "          f\"Score={avg_score:.4f}, Accuracy={avg_accuracy:.4f}, AUC={avg_auc:.4f}, Demographic Parity Diff={avg_demographic_parity_diff:.4f}\")\n",
    "\n",
    "# Convert results to DataFrame\n",
    "results_df = pd.DataFrame(results)\n",
    "\n",
    "# Find best hyperparameters\n",
    "best_params = results_df.loc[results_df[\"score\"].idxmax()]\n",
    "print(\"\\nBest Hyperparameters:\", best_params)\n"
   ]
  },
  {
   "cell_type": "code",
   "execution_count": null,
   "id": "bb1e4102-7834-4fa7-861c-33a025a58553",
   "metadata": {},
   "outputs": [],
   "source": []
  },
  {
   "cell_type": "code",
   "execution_count": null,
   "id": "94ebd500-9c2a-4fbc-b363-fd79165e2187",
   "metadata": {},
   "outputs": [],
   "source": []
  }
 ],
 "metadata": {
  "kernelspec": {
   "display_name": "Python 3 (clean)",
   "language": "python",
   "name": "python3_clean"
  },
  "language_info": {
   "codemirror_mode": {
    "name": "ipython",
    "version": 3
   },
   "file_extension": ".py",
   "mimetype": "text/x-python",
   "name": "python",
   "nbconvert_exporter": "python",
   "pygments_lexer": "ipython3",
   "version": "3.11.9"
  }
 },
 "nbformat": 4,
 "nbformat_minor": 5
}
