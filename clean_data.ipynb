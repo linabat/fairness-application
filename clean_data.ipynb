{
 "cells": [
  {
   "cell_type": "code",
   "execution_count": 12,
   "id": "5e79a5de-56fe-49ba-8007-5ab082b39d7b",
   "metadata": {},
   "outputs": [],
   "source": [
    "import pandas as pd\n",
    "import numpy as np \n",
    "import random"
   ]
  },
  {
   "cell_type": "code",
   "execution_count": 6,
   "id": "a42c351c-0ebf-4426-a225-16130194282d",
   "metadata": {},
   "outputs": [
    {
     "name": "stderr",
     "output_type": "stream",
     "text": [
      "/tmp/ipykernel_357/2355448443.py:7: UserWarning: Could not infer format, so each element will be parsed individually, falling back to `dateutil`. To ensure parsing is consistent and as-expected, please specify a format.\n",
      "  df = pd.read_csv('data/compas.data',\n"
     ]
    }
   ],
   "source": [
    "#!/usr/bin/env python\n",
    "# coding: utf-8\n",
    "\n",
    "import pandas as pd\n",
    "import numpy as np\n",
    "\n",
    "df = pd.read_csv('data/compas.data', \n",
    "                 parse_dates = ['DateOfBirth'])\n",
    "\n",
    "removed_columns = [\n",
    "    'Person_ID',\n",
    "    'AssessmentID',\n",
    "    'Case_ID',\n",
    "    'LastName',\n",
    "    'FirstName',\n",
    "    'MiddleName',\n",
    "    'Screening_Date',\n",
    "    'RecSupervisionLevelText',\n",
    "    'RawScore',\n",
    "    'DecileScore',\n",
    "    'IsCompleted',\n",
    "    'IsDeleted'\n",
    "]\n",
    "df.drop(removed_columns, axis=1, inplace=True)\n",
    "\n",
    "\n",
    "import datetime\n",
    "import numpy as np\n",
    "age = ((pd.Timestamp.now() - df['DateOfBirth']).dt.days / 365.25).astype(int)\n",
    "age[age<0] = np.nan\n",
    "df['age_'] = age\n",
    "\n",
    "\n",
    "df.drop(df[df['ScoreText'].isnull()].index, inplace=True)\n",
    "df.drop(df[df['age_'].isnull()].index, inplace=True)\n",
    "df.drop(df[df['MaritalStatus']=='Unknown'].index, inplace=True)\n",
    "\n",
    "\n",
    "age_bins = [0, 30, 100]\n",
    "age_groups = pd.cut(df['age_'], bins=age_bins)\n",
    "df['Age'] = age_groups\n",
    "num_groups = len(df['Age'].cat.categories)\n",
    "df['Age'] = df['Age'].cat.rename_categories(range(num_groups))\n",
    "\n",
    "\n",
    "df.Sex_Code_Text = pd.Categorical(df.Sex_Code_Text)\n",
    "df['Sex_Code_Text'] = df.Sex_Code_Text.cat.codes\n",
    "\n",
    "df[\"Ethnic_Code_Raw\"] = df[\"Ethnic_Code_Text\"]\n",
    "df.Ethnic_Code_Text = pd.Categorical(df.Ethnic_Code_Text)\n",
    "df['Ethnic_Code_Text'] = df.Ethnic_Code_Text.cat.codes\n",
    "\n",
    "\n",
    "df.MaritalStatus = pd.Categorical(df.MaritalStatus)\n",
    "df['MaritalStatus'] = df.MaritalStatus.cat.codes\n",
    "\n",
    "df.CustodyStatus = pd.Categorical(df.CustodyStatus)\n",
    "df['CustodyStatus'] = df.CustodyStatus.cat.codes\n",
    "\n",
    "df.LegalStatus = pd.Categorical(df.LegalStatus)\n",
    "df['LegalStatus'] = df.LegalStatus.cat.codes\n",
    "\n",
    "df['ScoreText_'] = -1\n",
    "mask = df['ScoreText']=='High'\n",
    "df.loc[mask, 'ScoreText_'] = 0\n",
    "df.loc[~mask, 'ScoreText_'] = 1\n",
    "\n",
    "\n",
    "df.drop(['DisplayText','ScoreText','Agency_Text', 'AssessmentType', 'ScaleSet_ID', 'ScaleSet', 'AssessmentReason', 'Language'], axis=1, inplace=True)\n",
    "df.drop(['DateOfBirth', 'age_', 'Scale_ID'], axis=1, inplace=True)\n",
    "df = df[df['Age'].notna()]\n",
    "\n",
    "\n",
    "df.to_csv('data/compass_categorized.csv', index = False)\n"
   ]
  },
  {
   "cell_type": "code",
   "execution_count": 7,
   "id": "6f4e6c31-e0ad-4f14-aedb-7ec33d63cabb",
   "metadata": {},
   "outputs": [],
   "source": [
    "raw = pd.read_csv('data/compass_categorized.csv')"
   ]
  },
  {
   "cell_type": "code",
   "execution_count": 8,
   "id": "bffef612-3393-4619-8f67-21f42b83407b",
   "metadata": {},
   "outputs": [
    {
     "data": {
      "text/html": [
       "<div>\n",
       "<style scoped>\n",
       "    .dataframe tbody tr th:only-of-type {\n",
       "        vertical-align: middle;\n",
       "    }\n",
       "\n",
       "    .dataframe tbody tr th {\n",
       "        vertical-align: top;\n",
       "    }\n",
       "\n",
       "    .dataframe thead th {\n",
       "        text-align: right;\n",
       "    }\n",
       "</style>\n",
       "<table border=\"1\" class=\"dataframe\">\n",
       "  <thead>\n",
       "    <tr style=\"text-align: right;\">\n",
       "      <th></th>\n",
       "      <th>Sex_Code_Text</th>\n",
       "      <th>Ethnic_Code_Text</th>\n",
       "      <th>LegalStatus</th>\n",
       "      <th>CustodyStatus</th>\n",
       "      <th>MaritalStatus</th>\n",
       "      <th>RecSupervisionLevel</th>\n",
       "      <th>Age</th>\n",
       "      <th>Ethnic_Code_Raw</th>\n",
       "      <th>ScoreText_</th>\n",
       "    </tr>\n",
       "  </thead>\n",
       "  <tbody>\n",
       "    <tr>\n",
       "      <th>0</th>\n",
       "      <td>1</td>\n",
       "      <td>4</td>\n",
       "      <td>5</td>\n",
       "      <td>0</td>\n",
       "      <td>4</td>\n",
       "      <td>1</td>\n",
       "      <td>1</td>\n",
       "      <td>Caucasian</td>\n",
       "      <td>1</td>\n",
       "    </tr>\n",
       "    <tr>\n",
       "      <th>1</th>\n",
       "      <td>1</td>\n",
       "      <td>4</td>\n",
       "      <td>5</td>\n",
       "      <td>0</td>\n",
       "      <td>4</td>\n",
       "      <td>1</td>\n",
       "      <td>1</td>\n",
       "      <td>Caucasian</td>\n",
       "      <td>1</td>\n",
       "    </tr>\n",
       "    <tr>\n",
       "      <th>2</th>\n",
       "      <td>1</td>\n",
       "      <td>4</td>\n",
       "      <td>5</td>\n",
       "      <td>0</td>\n",
       "      <td>4</td>\n",
       "      <td>1</td>\n",
       "      <td>1</td>\n",
       "      <td>Caucasian</td>\n",
       "      <td>1</td>\n",
       "    </tr>\n",
       "    <tr>\n",
       "      <th>3</th>\n",
       "      <td>1</td>\n",
       "      <td>4</td>\n",
       "      <td>5</td>\n",
       "      <td>0</td>\n",
       "      <td>1</td>\n",
       "      <td>1</td>\n",
       "      <td>1</td>\n",
       "      <td>Caucasian</td>\n",
       "      <td>1</td>\n",
       "    </tr>\n",
       "    <tr>\n",
       "      <th>4</th>\n",
       "      <td>1</td>\n",
       "      <td>4</td>\n",
       "      <td>5</td>\n",
       "      <td>0</td>\n",
       "      <td>1</td>\n",
       "      <td>1</td>\n",
       "      <td>1</td>\n",
       "      <td>Caucasian</td>\n",
       "      <td>1</td>\n",
       "    </tr>\n",
       "  </tbody>\n",
       "</table>\n",
       "</div>"
      ],
      "text/plain": [
       "   Sex_Code_Text  Ethnic_Code_Text  LegalStatus  CustodyStatus  MaritalStatus  \\\n",
       "0              1                 4            5              0              4   \n",
       "1              1                 4            5              0              4   \n",
       "2              1                 4            5              0              4   \n",
       "3              1                 4            5              0              1   \n",
       "4              1                 4            5              0              1   \n",
       "\n",
       "   RecSupervisionLevel  Age Ethnic_Code_Raw  ScoreText_  \n",
       "0                    1    1       Caucasian           1  \n",
       "1                    1    1       Caucasian           1  \n",
       "2                    1    1       Caucasian           1  \n",
       "3                    1    1       Caucasian           1  \n",
       "4                    1    1       Caucasian           1  "
      ]
     },
     "execution_count": 8,
     "metadata": {},
     "output_type": "execute_result"
    }
   ],
   "source": [
    "raw.head()"
   ]
  },
  {
   "cell_type": "code",
   "execution_count": 9,
   "id": "2eb13d73-32d4-4d0a-b003-be83e22b0929",
   "metadata": {},
   "outputs": [
    {
     "data": {
      "text/plain": [
       "(42005, 9)"
      ]
     },
     "execution_count": 9,
     "metadata": {},
     "output_type": "execute_result"
    }
   ],
   "source": [
    "raw.shape"
   ]
  },
  {
   "cell_type": "markdown",
   "id": "08d5449a-7071-4b31-8291-b5cde7ebb220",
   "metadata": {},
   "source": [
    "To create Unit test data "
   ]
  },
  {
   "cell_type": "code",
   "execution_count": 10,
   "id": "2e45a5c3-f50b-47cf-abe4-c6e25ad826c9",
   "metadata": {},
   "outputs": [
    {
     "name": "stdout",
     "output_type": "stream",
     "text": [
      "Sex_Code_Text , [1 0]\n",
      "Ethnic_Code_Text , [4 1 5 8 3 0 6 7 2]\n",
      "LegalStatus , [5 4 0 2 6 3 1]\n",
      "CustodyStatus , [0 4 2 5 3 1]\n",
      "MaritalStatus , [4 1 3 0 2 5]\n",
      "RecSupervisionLevel , [1 4 2 3]\n",
      "Age , [1 0]\n",
      "Ethnic_Code_Raw , ['Caucasian' 'African-American' 'Hispanic' 'Other' 'Asian' 'African-Am'\n",
      " 'Native American' 'Oriental' 'Arabic']\n",
      "ScoreText_ , [1 0]\n"
     ]
    }
   ],
   "source": [
    "for col in raw: \n",
    "    print(f\"{col} , {raw[col].unique()}\")"
   ]
  },
  {
   "cell_type": "code",
   "execution_count": 14,
   "id": "5b92f271-ec59-4072-9837-ab126246a599",
   "metadata": {},
   "outputs": [],
   "source": [
    "data = {\n",
    "    \"Sex_Code_Text\": [1, 0],\n",
    "    \"Ethnic_Code_Text\": [4, 1, 5, 8, 3, 0, 6, 7, 2],\n",
    "    \"LegalStatus\": [5, 4, 0, 2, 6, 3, 1],\n",
    "    \"CustodyStatus\": [0, 4, 2, 5, 3, 1],\n",
    "    \"MaritalStatus\": [4, 1, 3, 0, 2, 5],\n",
    "    \"RecSupervisionLevel\": [1, 4, 2, 3],\n",
    "    \"Age\": [1, 0],\n",
    "    \"Ethnic_Code_Raw\": [\n",
    "        'Caucasian', 'African-American', 'Hispanic', 'Other', 'Asian',\n",
    "        'African-Am', 'Native American', 'Oriental', 'Arabic'\n",
    "    ],\n",
    "    \"ScoreText_\": [1, 0]\n",
    "}\n",
    "\n",
    "# Generate 1000 rows of random data\n",
    "rows = 1000\n",
    "random_data = {\n",
    "    column: [random.choice(values) for _ in range(rows)] for column, values in data.items()\n",
    "}\n",
    "\n",
    "# Create a DataFrame\n",
    "df = pd.DataFrame(random_data)\n",
    "\n",
    "# Save to a CSV file\n",
    "file_path = \"unit_test_data/mock_compass_1000.csv\"\n",
    "df.to_csv(file_path, index=False)"
   ]
  },
  {
   "cell_type": "code",
   "execution_count": null,
   "id": "bbff80d3-401a-44a5-8dd8-ca7acb03db3b",
   "metadata": {},
   "outputs": [],
   "source": []
  }
 ],
 "metadata": {
  "kernelspec": {
   "display_name": "Python 3 (ipykernel)",
   "language": "python",
   "name": "python3"
  },
  "language_info": {
   "codemirror_mode": {
    "name": "ipython",
    "version": 3
   },
   "file_extension": ".py",
   "mimetype": "text/x-python",
   "name": "python",
   "nbconvert_exporter": "python",
   "pygments_lexer": "ipython3",
   "version": "3.11.9"
  }
 },
 "nbformat": 4,
 "nbformat_minor": 5
}
